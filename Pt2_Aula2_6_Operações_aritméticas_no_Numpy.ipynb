{
  "nbformat": 4,
  "nbformat_minor": 0,
  "metadata": {
    "colab": {
      "provenance": [],
      "authorship_tag": "ABX9TyOWW17cSm2E2eIDWyO/2h2I",
      "include_colab_link": true
    },
    "kernelspec": {
      "name": "python3",
      "display_name": "Python 3"
    },
    "language_info": {
      "name": "python"
    }
  },
  "cells": [
    {
      "cell_type": "markdown",
      "metadata": {
        "id": "view-in-github",
        "colab_type": "text"
      },
      "source": [
        "<a href=\"https://colab.research.google.com/github/CibeleYamada/python_xpe_bootcamp/blob/main/Pt2_Aula2_6_Opera%C3%A7%C3%B5es_aritm%C3%A9ticas_no_Numpy.ipynb\" target=\"_parent\"><img src=\"https://colab.research.google.com/assets/colab-badge.svg\" alt=\"Open In Colab\"/></a>"
      ]
    },
    {
      "cell_type": "markdown",
      "source": [
        "# **OPERAÇÕES ARITMÉTICAS NO  NUMPY ARRAY**\n",
        "\n",
        "- operações elemento a elemento;\n",
        "- broadcasting"
      ],
      "metadata": {
        "id": "oWSDetVysBXr"
      }
    },
    {
      "cell_type": "markdown",
      "source": [
        "**Funções aritméticas de soma, subtração e divisão**\n",
        "\n"
      ],
      "metadata": {
        "id": "exv_g-Dqcvjr"
      }
    },
    {
      "cell_type": "code",
      "source": [
        "import numpy as np"
      ],
      "metadata": {
        "id": "Qu6W-iW7dFWo"
      },
      "execution_count": 1,
      "outputs": []
    },
    {
      "cell_type": "code",
      "execution_count": 2,
      "metadata": {
        "colab": {
          "base_uri": "https://localhost:8080/"
        },
        "id": "VDi6v1oErySr",
        "outputId": "e2506225-b64f-469d-c4d2-63d841c6b29c"
      },
      "outputs": [
        {
          "output_type": "stream",
          "name": "stdout",
          "text": [
            "Array x: \n",
            " [[1 1]\n",
            " [1 1]]\n",
            "Array y: \n",
            " [[1 0]\n",
            " [0 1]]\n"
          ]
        }
      ],
      "source": [
        "# Criação de 2 arrays x e y para exemplificar as operações:\n",
        "\n",
        "x = np.ones((2,2), dtype=int)\n",
        "y = np.eye(2, dtype=int)\n",
        "\n",
        "print('Array x: \\n', x)\n",
        "print('Array y: \\n', y)"
      ]
    },
    {
      "cell_type": "markdown",
      "source": [
        "**SOMA**\n",
        "\n",
        "- pode ser feita por meio do operador '+' ou;\n",
        "- através da função: np.add()"
      ],
      "metadata": {
        "id": "jx2p0VLmd8GH"
      }
    },
    {
      "cell_type": "code",
      "source": [
        "# SOMA: usando operador '+'; a operação é feita entre os elementos das mesmas posições, por isso, os arrays devem ter o mesmo shape.\n",
        "\n",
        "print('Soma de dois arrays, x e y: \\n', x + y)"
      ],
      "metadata": {
        "colab": {
          "base_uri": "https://localhost:8080/"
        },
        "id": "hXWG4-Fsd1q_",
        "outputId": "b9cb2bed-279f-4ed6-c004-80bfd06ccb1d"
      },
      "execution_count": null,
      "outputs": [
        {
          "output_type": "stream",
          "name": "stdout",
          "text": [
            "Soma de dois arrays, x e y: \n",
            " [[2 1]\n",
            " [1 2]]\n"
          ]
        }
      ]
    },
    {
      "cell_type": "code",
      "source": [
        "# SOMA: de um número e um array: cada elemento do array é somado ao número.\n",
        "\n",
        "soma = np.add(x, 2)\n",
        "print(soma)"
      ],
      "metadata": {
        "colab": {
          "base_uri": "https://localhost:8080/"
        },
        "id": "V2YWYluGeld_",
        "outputId": "e61ad038-7920-45d6-ebfc-e3b73b165b07"
      },
      "execution_count": null,
      "outputs": [
        {
          "output_type": "stream",
          "name": "stdout",
          "text": [
            "[[3 3]\n",
            " [3 3]]\n"
          ]
        }
      ]
    },
    {
      "cell_type": "markdown",
      "source": [
        "**SUBTRAÇÃO**\n",
        "\n",
        "- pode ser feita pelo operador '-' ou;\n",
        "- pela função: np.subtract()"
      ],
      "metadata": {
        "id": "f7VI8JvpfYDt"
      }
    },
    {
      "cell_type": "code",
      "source": [
        "# Subtração usando operadores;\n",
        "# Array e número\n",
        "\n",
        "print(x-2)"
      ],
      "metadata": {
        "colab": {
          "base_uri": "https://localhost:8080/"
        },
        "id": "N58mOSUzfkou",
        "outputId": "c8aa1a96-de39-453b-f2be-7e2b7a904934"
      },
      "execution_count": null,
      "outputs": [
        {
          "output_type": "stream",
          "name": "stdout",
          "text": [
            "[[-1 -1]\n",
            " [-1 -1]]\n"
          ]
        }
      ]
    },
    {
      "cell_type": "code",
      "source": [
        "# Subtração usando função np.subtract() entre arrays:\n",
        "\n",
        "print(np.subtract(x, y))"
      ],
      "metadata": {
        "colab": {
          "base_uri": "https://localhost:8080/"
        },
        "id": "u24i6PRcf5dM",
        "outputId": "6523877d-dc15-4fc4-aebe-add3f9835554"
      },
      "execution_count": null,
      "outputs": [
        {
          "output_type": "stream",
          "name": "stdout",
          "text": [
            "[[0 1]\n",
            " [1 0]]\n"
          ]
        }
      ]
    },
    {
      "cell_type": "markdown",
      "source": [
        "**DIVISÃO**\n",
        "\n",
        "- pode ser usado o operador '/' ou;\n",
        "- a função: np.divide()\n"
      ],
      "metadata": {
        "id": "4Lw_8ZfOgL6W"
      }
    },
    {
      "cell_type": "code",
      "source": [
        "# Divisão:\n",
        "# OBS: como não dá para dividir um número por 0, vamos criar outros arrays:\n",
        "\n",
        "A = np.array(((4,2), (8,6)))\n",
        "B = np.array(((2,2), (2,2)))\n",
        "\n",
        "print('Array A:\\n', A)\n",
        "print('Array B:\\n', B)"
      ],
      "metadata": {
        "colab": {
          "base_uri": "https://localhost:8080/"
        },
        "id": "1JIRbxXYgZJY",
        "outputId": "7e3d2298-2f88-45ab-80a9-ab9ee1500b22"
      },
      "execution_count": null,
      "outputs": [
        {
          "output_type": "stream",
          "name": "stdout",
          "text": [
            "Array A:\n",
            " [[4 2]\n",
            " [8 6]]\n",
            "Array B:\n",
            " [[2 2]\n",
            " [2 2]]\n"
          ]
        }
      ]
    },
    {
      "cell_type": "code",
      "source": [
        "print(A/B)"
      ],
      "metadata": {
        "colab": {
          "base_uri": "https://localhost:8080/"
        },
        "id": "Ajugvuy9imRU",
        "outputId": "9bb176fa-4dec-4a63-c03f-0965bececb40"
      },
      "execution_count": null,
      "outputs": [
        {
          "output_type": "stream",
          "name": "stdout",
          "text": [
            "[[2. 1.]\n",
            " [4. 3.]]\n"
          ]
        }
      ]
    },
    {
      "cell_type": "code",
      "source": [
        "print(A/2)"
      ],
      "metadata": {
        "colab": {
          "base_uri": "https://localhost:8080/"
        },
        "id": "GQdK_y4vjAam",
        "outputId": "a15d5f5f-fe78-4678-96f5-184410fc61da"
      },
      "execution_count": null,
      "outputs": [
        {
          "output_type": "stream",
          "name": "stdout",
          "text": [
            "[[2. 1.]\n",
            " [4. 3.]]\n"
          ]
        }
      ]
    },
    {
      "cell_type": "markdown",
      "source": [
        "Dessa forma, usando arrays, é muito mais fácil fazer operações sem ter que usar a estrutura 'for' e realizar as operações uma a uma."
      ],
      "metadata": {
        "id": "fSVYCk9qNiWz"
      }
    },
    {
      "cell_type": "markdown",
      "source": [
        "**OBS**: Quando o broadcasting não funciona:\n",
        "\n",
        "- quando as dimensões dos arrays não são consistentes"
      ],
      "metadata": {
        "id": "epKWsRDANxLl"
      }
    },
    {
      "cell_type": "code",
      "source": [
        "# Ex: somando um array de 3 elementos com um array de 2 elementos\n",
        "\n",
        "np.array([1, 2, 3]) + np.array([1, 2])"
      ],
      "metadata": {
        "colab": {
          "base_uri": "https://localhost:8080/",
          "height": 200
        },
        "id": "IwVhTmuhOWUm",
        "outputId": "91c57181-e5df-4f71-caa9-7044f8a2085e"
      },
      "execution_count": null,
      "outputs": [
        {
          "output_type": "error",
          "ename": "ValueError",
          "evalue": "ignored",
          "traceback": [
            "\u001b[0;31m---------------------------------------------------------------------------\u001b[0m",
            "\u001b[0;31mValueError\u001b[0m                                Traceback (most recent call last)",
            "\u001b[0;32m<ipython-input-3-8f9abe765c66>\u001b[0m in \u001b[0;36m<cell line: 3>\u001b[0;34m()\u001b[0m\n\u001b[1;32m      1\u001b[0m \u001b[0;31m# Ex:\u001b[0m\u001b[0;34m\u001b[0m\u001b[0;34m\u001b[0m\u001b[0m\n\u001b[1;32m      2\u001b[0m \u001b[0;34m\u001b[0m\u001b[0m\n\u001b[0;32m----> 3\u001b[0;31m \u001b[0mnp\u001b[0m\u001b[0;34m.\u001b[0m\u001b[0marray\u001b[0m\u001b[0;34m(\u001b[0m\u001b[0;34m[\u001b[0m\u001b[0;36m1\u001b[0m\u001b[0;34m,\u001b[0m \u001b[0;36m2\u001b[0m\u001b[0;34m,\u001b[0m \u001b[0;36m3\u001b[0m\u001b[0;34m]\u001b[0m\u001b[0;34m)\u001b[0m \u001b[0;34m+\u001b[0m \u001b[0mnp\u001b[0m\u001b[0;34m.\u001b[0m\u001b[0marray\u001b[0m\u001b[0;34m(\u001b[0m\u001b[0;34m[\u001b[0m\u001b[0;36m1\u001b[0m\u001b[0;34m,\u001b[0m \u001b[0;36m2\u001b[0m\u001b[0;34m]\u001b[0m\u001b[0;34m)\u001b[0m\u001b[0;34m\u001b[0m\u001b[0;34m\u001b[0m\u001b[0m\n\u001b[0m",
            "\u001b[0;31mValueError\u001b[0m: operands could not be broadcast together with shapes (3,) (2,) "
          ]
        }
      ]
    },
    {
      "cell_type": "code",
      "source": [
        "# Porém: somando com array de 1 elemento, significa que estamos somando cada elemento do array 1 ao elemento do array 2.\n",
        "\n",
        "np.array([1, 2, 3]) + np.array([1])"
      ],
      "metadata": {
        "colab": {
          "base_uri": "https://localhost:8080/"
        },
        "id": "AhZT6d5QO-8q",
        "outputId": "978d9ca4-963e-4a4d-bddc-84cfe7cadba4"
      },
      "execution_count": null,
      "outputs": [
        {
          "output_type": "execute_result",
          "data": {
            "text/plain": [
              "array([2, 3, 4])"
            ]
          },
          "metadata": {},
          "execution_count": 4
        }
      ]
    },
    {
      "cell_type": "markdown",
      "source": [
        "**Combinação de operações**"
      ],
      "metadata": {
        "id": "4OCrLifqPd0j"
      }
    },
    {
      "cell_type": "code",
      "source": [
        "print('Combinação de operações: \\n', (x+y)/(x-2))"
      ],
      "metadata": {
        "colab": {
          "base_uri": "https://localhost:8080/"
        },
        "id": "mmcVnnHmPhFT",
        "outputId": "0c2eb90f-aa4b-492f-a48d-033ce1dc72e4"
      },
      "execution_count": null,
      "outputs": [
        {
          "output_type": "stream",
          "name": "stdout",
          "text": [
            "Combinação de operações: \n",
            " [[-2. -1.]\n",
            " [-1. -2.]]\n"
          ]
        }
      ]
    },
    {
      "cell_type": "markdown",
      "source": [
        "**MULTIPLICAÇÃO**\n",
        "\n",
        "- pode ser usado o operador '*' ou;\n",
        "- através da função np.multiply()"
      ],
      "metadata": {
        "id": "IgdZLJ72HGwR"
      }
    },
    {
      "cell_type": "markdown",
      "source": [
        "A multiplicação de numpy arrays pode ser realizada em elemento a elemento ou a multiplicação matricial."
      ],
      "metadata": {
        "id": "A3YHD_3-He22"
      }
    },
    {
      "cell_type": "code",
      "source": [
        "# Multiplicação elemento a elemento:\n",
        "\n",
        "print('Multiplicação de dois arrays:\\n', x*y)\n",
        "\n",
        "# lembrando que, assim como as outras operações aritméticas entre arrays, os elementos de cada posição são multiplicados entre si."
      ],
      "metadata": {
        "colab": {
          "base_uri": "https://localhost:8080/"
        },
        "id": "GcKUXNB9HakW",
        "outputId": "066fcb26-7a2c-43da-97dc-ec4a2424b6c1"
      },
      "execution_count": 3,
      "outputs": [
        {
          "output_type": "stream",
          "name": "stdout",
          "text": [
            "Multiplicação de dois arrays:\n",
            " [[1 0]\n",
            " [0 1]]\n"
          ]
        }
      ]
    },
    {
      "cell_type": "code",
      "source": [
        "# Multiplicação com float/int (broadcasting):\n",
        "\n",
        "print(np.multiply(x,2))\n",
        "\n",
        "# essa operação poderia ser escrita como: x * 2, sendo x o array identidade (onde todos os elementos valem 1)."
      ],
      "metadata": {
        "colab": {
          "base_uri": "https://localhost:8080/"
        },
        "id": "YP_Z41DyJko9",
        "outputId": "2a9598af-07c0-402e-9888-47b42586bf58"
      },
      "execution_count": 4,
      "outputs": [
        {
          "output_type": "stream",
          "name": "stdout",
          "text": [
            "[[2 2]\n",
            " [2 2]]\n"
          ]
        }
      ]
    },
    {
      "cell_type": "code",
      "source": [
        "# Exemplo: criar array 10x10 com todos os elementos valendo 5\n",
        "\n",
        "5 * np.ones((10,10))"
      ],
      "metadata": {
        "colab": {
          "base_uri": "https://localhost:8080/"
        },
        "id": "0Il7-DrPKluZ",
        "outputId": "39fdf56b-fe4b-45d7-d8bb-39e680976c2a"
      },
      "execution_count": 5,
      "outputs": [
        {
          "output_type": "execute_result",
          "data": {
            "text/plain": [
              "array([[5., 5., 5., 5., 5., 5., 5., 5., 5., 5.],\n",
              "       [5., 5., 5., 5., 5., 5., 5., 5., 5., 5.],\n",
              "       [5., 5., 5., 5., 5., 5., 5., 5., 5., 5.],\n",
              "       [5., 5., 5., 5., 5., 5., 5., 5., 5., 5.],\n",
              "       [5., 5., 5., 5., 5., 5., 5., 5., 5., 5.],\n",
              "       [5., 5., 5., 5., 5., 5., 5., 5., 5., 5.],\n",
              "       [5., 5., 5., 5., 5., 5., 5., 5., 5., 5.],\n",
              "       [5., 5., 5., 5., 5., 5., 5., 5., 5., 5.],\n",
              "       [5., 5., 5., 5., 5., 5., 5., 5., 5., 5.],\n",
              "       [5., 5., 5., 5., 5., 5., 5., 5., 5., 5.]])"
            ]
          },
          "metadata": {},
          "execution_count": 5
        }
      ]
    },
    {
      "cell_type": "markdown",
      "source": [
        "**MULTIPLICAÇÃO MATRICIAL**\n",
        "\n",
        "É feita através da função **np.dot()** ou através do operador nativo do Python, que é o **@**.\n",
        "\n",
        "- O número de linhas da matriz resultante (C) é definida pelo número de linhas da 1ª matriz, e o número de colunas, pelo número de colunas da 2ª matriz."
      ],
      "metadata": {
        "id": "mHn3hhtmKe71"
      }
    },
    {
      "cell_type": "markdown",
      "source": [
        "![image.png](data:image/png;base64,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)"
      ],
      "metadata": {
        "id": "wTadiE8-Mpna"
      }
    },
    {
      "cell_type": "code",
      "source": [
        "# Usando a função np.dot():\n",
        "\n",
        "print(np.dot(x,y))"
      ],
      "metadata": {
        "colab": {
          "base_uri": "https://localhost:8080/"
        },
        "id": "l0kDIYBxLJcM",
        "outputId": "a9f4859f-99d0-4e07-f5bf-44983ccff9f4"
      },
      "execution_count": 6,
      "outputs": [
        {
          "output_type": "stream",
          "name": "stdout",
          "text": [
            "[[1 1]\n",
            " [1 1]]\n"
          ]
        }
      ]
    },
    {
      "cell_type": "code",
      "source": [
        "# Usando o operador @:\n",
        "\n",
        "print(x @ y)"
      ],
      "metadata": {
        "colab": {
          "base_uri": "https://localhost:8080/"
        },
        "id": "wB4Cwp7gLeCD",
        "outputId": "15f21d91-3f59-4998-e424-7701a0735602"
      },
      "execution_count": 7,
      "outputs": [
        {
          "output_type": "stream",
          "name": "stdout",
          "text": [
            "[[1 1]\n",
            " [1 1]]\n"
          ]
        }
      ]
    },
    {
      "cell_type": "code",
      "source": [
        "# Um outra forma é:\n",
        "\n",
        "print(x.dot(y))"
      ],
      "metadata": {
        "colab": {
          "base_uri": "https://localhost:8080/"
        },
        "id": "DUFkLDx6Nanw",
        "outputId": "732e950e-b098-4d79-e906-98dd3ce53378"
      },
      "execution_count": 8,
      "outputs": [
        {
          "output_type": "stream",
          "name": "stdout",
          "text": [
            "[[1 1]\n",
            " [1 1]]\n"
          ]
        }
      ]
    },
    {
      "cell_type": "code",
      "source": [
        "\"\"\"\n",
        "Exemplo: solução de um sistemas de equações\n",
        "    1*a + 2*b = 7\n",
        "    3*a - 2*b = -11\n",
        "    solução analítica: (a, b) = (-1, 4)\n",
        "\n",
        "Matricialmente, este problema tem a seguinte forma: (todo sistema de equações pode ser posto em um forma matricial)\n",
        "    Ax = c, onde:\n",
        "    - x = [a, b]\n",
        "    - A = [[1, 2], [3, -2]]\n",
        "    - c = [7, -11]\n",
        "    solução numérica: x = inv(A) @ c\n",
        "\n",
        "\"\"\"\n"
      ],
      "metadata": {
        "id": "hLDnKKriNx0u"
      },
      "execution_count": null,
      "outputs": []
    },
    {
      "cell_type": "markdown",
      "source": [
        "![image.png](data:image/png;base64,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)"
      ],
      "metadata": {
        "id": "T3aXjNetQ_Px"
      }
    },
    {
      "cell_type": "code",
      "source": [
        "# definição do problema:\n",
        "\n",
        "A = np.array([[1,2], [3, -2]])\n",
        "c = np.array([[7], [-11]])\n",
        "\n",
        "print('A: \\n', A)\n",
        "print('c: \\n', c)"
      ],
      "metadata": {
        "colab": {
          "base_uri": "https://localhost:8080/"
        },
        "id": "PBANLSgQRCgL",
        "outputId": "6f92daf7-2609-4cea-9eb3-03c8d28add51"
      },
      "execution_count": 9,
      "outputs": [
        {
          "output_type": "stream",
          "name": "stdout",
          "text": [
            "A: \n",
            " [[ 1  2]\n",
            " [ 3 -2]]\n",
            "c: \n",
            " [[  7]\n",
            " [-11]]\n"
          ]
        }
      ]
    },
    {
      "cell_type": "code",
      "source": [
        "# solução: usando o np.linalq.inv é possível inverter a matriz A\n",
        "\n",
        "# x = np.dot(np.linalg.inv(A), c) ou:\n",
        "\n",
        "x = np.linalg.inv(A) @ c\n",
        "\n",
        "print('(a, b):', x.ravel())"
      ],
      "metadata": {
        "colab": {
          "base_uri": "https://localhost:8080/"
        },
        "id": "jmEVB1c0SF37",
        "outputId": "f867c1d3-03e1-49e3-fadd-2176e15c0ca4"
      },
      "execution_count": 13,
      "outputs": [
        {
          "output_type": "stream",
          "name": "stdout",
          "text": [
            "(a, b): [-1.  4.]\n"
          ]
        }
      ]
    }
  ]
}