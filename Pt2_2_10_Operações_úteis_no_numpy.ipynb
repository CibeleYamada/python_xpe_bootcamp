{
  "nbformat": 4,
  "nbformat_minor": 0,
  "metadata": {
    "colab": {
      "provenance": [],
      "authorship_tag": "ABX9TyO4D8Ry3ef11j/ksdzfKf06"
    },
    "kernelspec": {
      "name": "python3",
      "display_name": "Python 3"
    },
    "language_info": {
      "name": "python"
    }
  },
  "cells": [
    {
      "cell_type": "markdown",
      "source": [
        "#**OPERAÇÕES ÚTEIS NO NUMPY**"
      ],
      "metadata": {
        "id": "lm2SpjXrWw_n"
      }
    },
    {
      "cell_type": "code",
      "execution_count": 1,
      "metadata": {
        "id": "sJXDlqxFeJl9"
      },
      "outputs": [],
      "source": [
        "import numpy as np"
      ]
    },
    {
      "cell_type": "code",
      "source": [
        "# criando um array:\n",
        "\n",
        "x = np.array([[1,3,7],\n",
        "              [4,11,21],\n",
        "              [42,8,9]])"
      ],
      "metadata": {
        "id": "c0rVSUiJX2E4"
      },
      "execution_count": 2,
      "outputs": []
    },
    {
      "cell_type": "markdown",
      "source": [
        "**Método .reshape**\n",
        "\n",
        "- transforma a matriz em um vetor coluna ou linha"
      ],
      "metadata": {
        "id": "e63vTx8MYG-z"
      }
    },
    {
      "cell_type": "code",
      "source": [
        "# nesse caso, a matriz x (que tem formato 3x3), vira uma matriz coluna 9x1\n",
        "\n",
        "print(x.reshape(9,1))"
      ],
      "metadata": {
        "colab": {
          "base_uri": "https://localhost:8080/"
        },
        "id": "4R_Buk3MhCK0",
        "outputId": "c1b5c186-429e-47e2-eac3-71784181411d"
      },
      "execution_count": null,
      "outputs": [
        {
          "output_type": "stream",
          "name": "stdout",
          "text": [
            "[[ 1]\n",
            " [ 3]\n",
            " [ 7]\n",
            " [ 4]\n",
            " [11]\n",
            " [21]\n",
            " [42]\n",
            " [ 8]\n",
            " [ 9]]\n"
          ]
        }
      ]
    },
    {
      "cell_type": "code",
      "source": [
        "# ou uma matrix 1x9 (1 linha, 9 colunas)\n",
        "\n",
        "print(x.reshape(1,9))"
      ],
      "metadata": {
        "colab": {
          "base_uri": "https://localhost:8080/"
        },
        "id": "oVUpyaX0hWtT",
        "outputId": "909241f9-2e19-47ff-cd0e-b8618bc58595"
      },
      "execution_count": null,
      "outputs": [
        {
          "output_type": "stream",
          "name": "stdout",
          "text": [
            "[[ 1  3  7  4 11 21 42  8  9]]\n"
          ]
        }
      ]
    },
    {
      "cell_type": "markdown",
      "source": [
        "**Método .T - Transposição da matriz**\n",
        "\n",
        "- faz a transposição da matriz (linha vira coluna e vice-versa)"
      ],
      "metadata": {
        "id": "YZS4S1eqhnoF"
      }
    },
    {
      "cell_type": "code",
      "source": [
        "print('Matriz transposta de x: \\n', x.T)"
      ],
      "metadata": {
        "colab": {
          "base_uri": "https://localhost:8080/"
        },
        "id": "mHbuV-Cphxf6",
        "outputId": "38fda7ac-bd2b-4749-ba58-0852862d0e85"
      },
      "execution_count": null,
      "outputs": [
        {
          "output_type": "stream",
          "name": "stdout",
          "text": [
            "Matriz transposta de x: \n",
            " [[ 1  4 42]\n",
            " [ 3 11  8]\n",
            " [ 7 21  9]]\n"
          ]
        }
      ]
    },
    {
      "cell_type": "markdown",
      "source": [
        "**Método np.sum()**\n",
        "\n",
        "- soma os elementos de um determinado eixo ou de toda a matriz.\n",
        "- lembrando que o eixo 0 é o eixo das linhas e o eixo 1 é o eixo das colunas"
      ],
      "metadata": {
        "id": "XXK_wIaophtQ"
      }
    },
    {
      "cell_type": "code",
      "source": [
        "print('Matriz x:\\n', x)\n",
        "\n",
        "print('Soma de todos os elementos da matriz x: \\n', np.sum(x))\n",
        "\n",
        "print('Soma dos elementos ao longo das linhas da matriz x:\\n', np.sum(x, axis=0))\n",
        "\n",
        "print('Soma dos elementos ao longo das das colunas da matriz x:\\n', np.sum(x, axis=1))"
      ],
      "metadata": {
        "colab": {
          "base_uri": "https://localhost:8080/"
        },
        "id": "Kbpdg-Kzp7eu",
        "outputId": "68053f74-cbe4-4a5e-948e-3840bf4b95d7"
      },
      "execution_count": null,
      "outputs": [
        {
          "output_type": "stream",
          "name": "stdout",
          "text": [
            "Matriz x:\n",
            " [[ 1  3  7]\n",
            " [ 4 11 21]\n",
            " [42  8  9]]\n",
            "Soma de todos os elementos da matriz x: \n",
            " 106\n",
            "Soma dos elementos ao longo das linhas da matriz x:\n",
            " [47 22 37]\n",
            "Soma dos elementos ao longo das das colunas da matriz x:\n",
            " [11 36 59]\n"
          ]
        }
      ]
    },
    {
      "cell_type": "markdown",
      "source": [
        "**Método np.mean()**\n",
        "\n",
        "- retorna a média ao longo de um eixo."
      ],
      "metadata": {
        "id": "b9JvnbkCCg40"
      }
    },
    {
      "cell_type": "code",
      "source": [
        "print('x: \\n', x)\n",
        "\n",
        "print('Média de todos os elementos de x:', np.mean(x))\n",
        "\n",
        "print('Média de x ao longo das linhas:', np.mean(x, axis=0))\n",
        "\n",
        "print('Média de x ao longo das colunas:', np.mean(x, axis=1))"
      ],
      "metadata": {
        "colab": {
          "base_uri": "https://localhost:8080/"
        },
        "id": "CdauAmzmC26W",
        "outputId": "0690496a-6ee2-45b1-d6ee-38e2ec8bb1d9"
      },
      "execution_count": 5,
      "outputs": [
        {
          "output_type": "stream",
          "name": "stdout",
          "text": [
            "x: \n",
            " [[ 1  3  7]\n",
            " [ 4 11 21]\n",
            " [42  8  9]]\n",
            "Média de todos os elementos de x: 11.777777777777779\n",
            "Média de x ao longo das linhas: [15.66666667  7.33333333 12.33333333]\n",
            "Média de x ao longo das colunas: [ 3.66666667 12.         19.66666667]\n"
          ]
        }
      ]
    },
    {
      "cell_type": "markdown",
      "source": [
        "**Outros análogos ao .sum e .mean:**\n",
        "\n",
        "- np.median(): retorna a mediana;"
      ],
      "metadata": {
        "id": "89oUxysjEkrq"
      }
    },
    {
      "cell_type": "markdown",
      "source": [
        "**Método np.where()**\n",
        "\n",
        "- muito útil quando trabalhamos com indexaçao booleana;\n",
        "- identificação dos índices onde uma dada condição é atendida."
      ],
      "metadata": {
        "id": "w4x3hgAmE2Ql"
      }
    },
    {
      "cell_type": "code",
      "source": [
        "# condição: números pares\n",
        "\n",
        "cond = x % 2 == 0\n",
        "\n",
        "print('Condição: \\n', cond)\n",
        "\n",
        "# método np.where():\n",
        "\n",
        "i, j = np.where(cond)\n",
        "\n",
        "print('índice i (linhas):', i)\n",
        "print('índice j (colunas):', j)"
      ],
      "metadata": {
        "colab": {
          "base_uri": "https://localhost:8080/"
        },
        "id": "l45SLUUBFMNy",
        "outputId": "7c07929a-e308-42a2-cbe9-7092d1fc1cc4"
      },
      "execution_count": 6,
      "outputs": [
        {
          "output_type": "stream",
          "name": "stdout",
          "text": [
            "Condição: \n",
            " [[False False False]\n",
            " [ True False False]\n",
            " [ True  True False]]\n",
            "índice i (linhas): [1 2 2]\n",
            "índice j (colunas): [0 0 1]\n"
          ]
        }
      ]
    }
  ]
}