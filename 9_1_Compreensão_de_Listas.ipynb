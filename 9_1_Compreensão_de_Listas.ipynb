{
  "nbformat": 4,
  "nbformat_minor": 0,
  "metadata": {
    "colab": {
      "provenance": [],
      "authorship_tag": "ABX9TyO7EBIurvVRKFIsvGofJU5s",
      "include_colab_link": true
    },
    "kernelspec": {
      "name": "python3",
      "display_name": "Python 3"
    },
    "language_info": {
      "name": "python"
    }
  },
  "cells": [
    {
      "cell_type": "markdown",
      "metadata": {
        "id": "view-in-github",
        "colab_type": "text"
      },
      "source": [
        "<a href=\"https://colab.research.google.com/github/CibeleYamada/python_xpe_bootcamp/blob/main/9_1_Compreens%C3%A3o_de_Listas.ipynb\" target=\"_parent\"><img src=\"https://colab.research.google.com/assets/colab-badge.svg\" alt=\"Open In Colab\"/></a>"
      ]
    },
    {
      "cell_type": "markdown",
      "source": [
        "# **RECURSOS ÚTEIS DA LINGUAGEM PYHTON**"
      ],
      "metadata": {
        "id": "4FkgAX9fJGCd"
      }
    },
    {
      "cell_type": "markdown",
      "source": [
        "**Compreensão de Listas**\n",
        "\n",
        "- conceito que permite a otimização para a criação de listas e utilização de menos linhas para escrever o código.\n"
      ],
      "metadata": {
        "id": "74UD9KcNJPX0"
      }
    },
    {
      "cell_type": "code",
      "execution_count": null,
      "metadata": {
        "id": "zoGlJ6DFI6jZ"
      },
      "outputs": [],
      "source": [
        "# list comprenhension SEM condicional:\n",
        "[expr(item) for item in sequencia] "
      ]
    },
    {
      "cell_type": "markdown",
      "source": [
        "Ou seja, para cada item (item) da sequência (sequencia) iterável (for) aplica uma transformação (expr)."
      ],
      "metadata": {
        "id": "rq3-mtKTMEU5"
      }
    },
    {
      "cell_type": "code",
      "source": [
        "# list comprenhesion COM condicional:\n",
        "[expr(item) for item in sequencia if condicao]"
      ],
      "metadata": {
        "id": "eHJzxUljLinm"
      },
      "execution_count": null,
      "outputs": []
    },
    {
      "cell_type": "code",
      "source": [
        "#EXEMPLO 1: Criar uma lista com os números de 1 a 10 elevados ao quadrado.\n",
        "\n",
        "potencias = []                # 1) criar uma lista vazia;\n",
        "for item in range(1,11):      # 2) para cada item dessa sequencia de 1 a 10 (coloca 11 para o 10 estar incluso)\n",
        "  potencias.append(item**2)   # 3) será adicionado o item (append), mas ele será elevado ao quadrado;\n",
        "print(potencias)"
      ],
      "metadata": {
        "colab": {
          "base_uri": "https://localhost:8080/"
        },
        "id": "rHd4g6kxLvhW",
        "outputId": "7c5fc1b4-26fc-41fb-8546-a375ec5976b1"
      },
      "execution_count": 2,
      "outputs": [
        {
          "output_type": "stream",
          "name": "stdout",
          "text": [
            "[1, 4, 9, 16, 25, 36, 49, 64, 81, 100]\n"
          ]
        }
      ]
    },
    {
      "cell_type": "markdown",
      "source": [
        "A mesma operação pode ser reescrita utilizando a compreensão de listas:"
      ],
      "metadata": {
        "id": "uTeYEBCfM9VZ"
      }
    },
    {
      "cell_type": "code",
      "source": [
        "potencias = [item**2 for item in range(1,11)]      # [expressão(item) for item in sequência]\n",
        "print(potencias)                                   # a expressão acima é a própria sentença matemática que está relacionado ao item"
      ],
      "metadata": {
        "colab": {
          "base_uri": "https://localhost:8080/"
        },
        "id": "1txOyxQFNDiG",
        "outputId": "5148e823-633b-44f4-8eea-82170fd9c1d9"
      },
      "execution_count": 3,
      "outputs": [
        {
          "output_type": "stream",
          "name": "stdout",
          "text": [
            "[1, 4, 9, 16, 25, 36, 49, 64, 81, 100]\n"
          ]
        }
      ]
    },
    {
      "cell_type": "markdown",
      "source": [
        "O que queremos dizer com a list comprenhension é: crie uma iteração (for - in) para a sequência de 1 a 10, e faça uma operação com o cada item."
      ],
      "metadata": {
        "id": "xUKvGd1ITONI"
      }
    },
    {
      "cell_type": "code",
      "source": [
        "# Exemplo 2: multiplique por 10 os elementos de 1 a 15;\n",
        "# Seguindo a sintaxe: [expressão(item) for item in range()]\n",
        "\n",
        "valores = [item*10 for item in range(1,16)]\n",
        "print(valores)"
      ],
      "metadata": {
        "colab": {
          "base_uri": "https://localhost:8080/"
        },
        "id": "j7FV6Q5xTu03",
        "outputId": "2ead52ce-6984-4910-8cbf-559e6aaff589"
      },
      "execution_count": 4,
      "outputs": [
        {
          "output_type": "stream",
          "name": "stdout",
          "text": [
            "[10, 20, 30, 40, 50, 60, 70, 80, 90, 100, 110, 120, 130, 140, 150]\n"
          ]
        }
      ]
    },
    {
      "cell_type": "code",
      "source": [
        "# Exemplo 3: crie uma lista ocm os caracteres em maiúsculo;\n",
        "\n",
        "nome = [letras.upper() for letras in 'cibele']\n",
        "print(nome)"
      ],
      "metadata": {
        "colab": {
          "base_uri": "https://localhost:8080/"
        },
        "id": "Gc47xyyBULq0",
        "outputId": "c020aeac-dbd4-4a5c-ba9c-7dd7447729b3"
      },
      "execution_count": 5,
      "outputs": [
        {
          "output_type": "stream",
          "name": "stdout",
          "text": [
            "['C', 'I', 'B', 'E', 'L', 'E']\n"
          ]
        }
      ]
    },
    {
      "cell_type": "code",
      "source": [
        "# Exemplo 4: indica se n é par ou não;\n",
        "\n",
        "numero = [(n % 2 == 0) for n in range(0,11)]\n",
        "print(numero)"
      ],
      "metadata": {
        "colab": {
          "base_uri": "https://localhost:8080/"
        },
        "id": "2h_3NLbGVL5v",
        "outputId": "f08337a4-fdb4-4c95-ce42-e4a24e90ce23"
      },
      "execution_count": 6,
      "outputs": [
        {
          "output_type": "stream",
          "name": "stdout",
          "text": [
            "[True, False, True, False, True, False, True, False, True, False, True]\n"
          ]
        }
      ]
    },
    {
      "cell_type": "markdown",
      "source": [
        "**list comprenhesion COM condicional:**\n",
        "\n",
        "[expr(item) for item in sequencia if condicao]"
      ],
      "metadata": {
        "id": "3-vIvqQiWIgA"
      }
    },
    {
      "cell_type": "code",
      "source": [
        "# Exemplo 5: Crie uma lista com os números ímpares de 1 a 10, elevados ao quadrado;\n",
        "# primeiro vamos criar do modo convencional, sem list comprenhension\n",
        "\n",
        "potencias_impares = []\n",
        "for item in range(1,11):\n",
        "  if item % 2 != 0:\n",
        "    potencias_impares.append(item**2)\n",
        "print(potencias_impares)\n"
      ],
      "metadata": {
        "colab": {
          "base_uri": "https://localhost:8080/"
        },
        "id": "E3DceyXGVvkr",
        "outputId": "3eee0ca6-ba56-4d5c-ad55-42e0c942872f"
      },
      "execution_count": 7,
      "outputs": [
        {
          "output_type": "stream",
          "name": "stdout",
          "text": [
            "[1, 9, 25, 49, 81]\n"
          ]
        }
      ]
    },
    {
      "cell_type": "code",
      "source": [
        "# o mesmo exemplo anterior, usando list comprenhension:\n",
        "\n",
        "potencias_impares = [(item**2) for item in range(1,11) if item % 2 != 0]\n",
        "print(potencias_impares)"
      ],
      "metadata": {
        "colab": {
          "base_uri": "https://localhost:8080/"
        },
        "id": "thRibFD8W-WB",
        "outputId": "92d88c98-33a8-4ed3-f7e2-33a0273cc589"
      },
      "execution_count": 8,
      "outputs": [
        {
          "output_type": "stream",
          "name": "stdout",
          "text": [
            "[1, 9, 25, 49, 81]\n"
          ]
        }
      ]
    }
  ]
}