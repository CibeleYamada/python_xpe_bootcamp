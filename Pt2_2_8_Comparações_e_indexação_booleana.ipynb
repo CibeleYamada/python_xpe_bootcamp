{
  "nbformat": 4,
  "nbformat_minor": 0,
  "metadata": {
    "colab": {
      "provenance": [],
      "authorship_tag": "ABX9TyPjgMyFRp7CCyAtu/7/Bulh",
      "include_colab_link": true
    },
    "kernelspec": {
      "name": "python3",
      "display_name": "Python 3"
    },
    "language_info": {
      "name": "python"
    }
  },
  "cells": [
    {
      "cell_type": "markdown",
      "metadata": {
        "id": "view-in-github",
        "colab_type": "text"
      },
      "source": [
        "<a href=\"https://colab.research.google.com/github/CibeleYamada/python_xpe_bootcamp/blob/main/Pt2_2_8_Compara%C3%A7%C3%B5es_e_indexa%C3%A7%C3%A3o_booleana.ipynb\" target=\"_parent\"><img src=\"https://colab.research.google.com/assets/colab-badge.svg\" alt=\"Open In Colab\"/></a>"
      ]
    },
    {
      "cell_type": "markdown",
      "source": [
        "# **COMPARAÇÕES E INDEXAÇÃO BOOLEANA**\n",
        "\n",
        "- comparações entre numpy arrays\n",
        "- indexação booleana (forma de se realizar uma filtragem no numpy array com  um determinado propósito)\n",
        "\n"
      ],
      "metadata": {
        "id": "kZFv5n0lDsz9"
      }
    },
    {
      "cell_type": "code",
      "source": [
        "import numpy as np"
      ],
      "metadata": {
        "id": "mrLcoBN-NeKH"
      },
      "execution_count": 1,
      "outputs": []
    },
    {
      "cell_type": "code",
      "source": [
        "A = np.array([1,2,3])\n",
        "B = np.array([2,0,2])\n",
        "s = 3"
      ],
      "metadata": {
        "id": "coWLi6zoNkJo"
      },
      "execution_count": 2,
      "outputs": []
    },
    {
      "cell_type": "code",
      "source": [
        "x = np.array([[1,2], [3,4]])\n",
        "y = np.array([1.5, 3.5])"
      ],
      "metadata": {
        "id": "HTkGqUUgVzSP"
      },
      "execution_count": 9,
      "outputs": []
    },
    {
      "cell_type": "markdown",
      "source": [
        "**Comparação: menor e menor/igual**\n",
        "\n",
        "- menor: operador '<'\n",
        "- menor ou igual: operador '<='\n",
        "\n",
        "As comparações retornam um outro numpy array que informa se as condições de comparação são verdadeiras ou falsas.\n",
        "\n",
        "- As comparações são feitas elemento a elemento das posições correspondentes."
      ],
      "metadata": {
        "id": "QUjmnYHHNNoK"
      }
    },
    {
      "cell_type": "code",
      "execution_count": 3,
      "metadata": {
        "id": "OWyQodCEDhxP",
        "colab": {
          "base_uri": "https://localhost:8080/"
        },
        "outputId": "accade46-27cd-4680-af4a-e7ae0825f340"
      },
      "outputs": [
        {
          "output_type": "stream",
          "name": "stdout",
          "text": [
            "[ True False False]\n"
          ]
        }
      ],
      "source": [
        "# a comparação é feita entre os elementos que ocupam as mesmas posições no array.\n",
        "\n",
        "print(A < B)"
      ]
    },
    {
      "cell_type": "code",
      "source": [
        "# podemos fazer a comparação entre um array e um número: o número será comparado com cada elemento do array\n",
        "\n",
        "print(A < s)"
      ],
      "metadata": {
        "colab": {
          "base_uri": "https://localhost:8080/"
        },
        "id": "eYFV68FkOS3X",
        "outputId": "9927e80d-f570-4f85-dcc6-3f865fd5b23a"
      },
      "execution_count": 4,
      "outputs": [
        {
          "output_type": "stream",
          "name": "stdout",
          "text": [
            "[ True  True False]\n"
          ]
        }
      ]
    },
    {
      "cell_type": "code",
      "source": [
        "print(A <= B)"
      ],
      "metadata": {
        "colab": {
          "base_uri": "https://localhost:8080/"
        },
        "id": "nEGL3IlmOiYa",
        "outputId": "03822814-b479-45e3-e9e6-65fd88432d40"
      },
      "execution_count": 5,
      "outputs": [
        {
          "output_type": "stream",
          "name": "stdout",
          "text": [
            "[ True False False]\n"
          ]
        }
      ]
    },
    {
      "cell_type": "code",
      "source": [
        "print(A <= s)"
      ],
      "metadata": {
        "colab": {
          "base_uri": "https://localhost:8080/"
        },
        "id": "nSSAAp9yOmWW",
        "outputId": "542700e1-631a-4072-d783-7363b5918d42"
      },
      "execution_count": 6,
      "outputs": [
        {
          "output_type": "stream",
          "name": "stdout",
          "text": [
            "[ True  True  True]\n"
          ]
        }
      ]
    },
    {
      "cell_type": "markdown",
      "source": [
        "**Comparação maior e maior/igual**\n",
        "\n",
        "- maior: operador '>'\n",
        "- maior ou igual: '>='"
      ],
      "metadata": {
        "id": "YTdv5KmhS9aN"
      }
    },
    {
      "cell_type": "markdown",
      "source": [
        "**Comparação de igualdade**\n",
        "\n",
        "- operador: '=='"
      ],
      "metadata": {
        "id": "A08V0i5oTWyI"
      }
    },
    {
      "cell_type": "markdown",
      "source": [
        "**Comparação de diferença**\n",
        "\n",
        "- operador: '!='"
      ],
      "metadata": {
        "id": "wMoXuvg3TdFK"
      }
    },
    {
      "cell_type": "code",
      "source": [
        "print('Comparação de um array com um escalar (>): \\n', x > 2)\n",
        "print('Comparação de um array com um escalar (>=): \\n', x >= 2)\n",
        "print('Comparação de um array com um escalar (<): \\n', x < 2)\n",
        "print('Comparação de um array com um escalar (<=): \\n', x <= 2)\n",
        "print('Comparação entre arrays (==): \\n', x == y)\n",
        "print('Comparação entre arrays (>):\\n', x > y) # broadcasting: comparação de linha a linha de x com a linha de y\n"
      ],
      "metadata": {
        "colab": {
          "base_uri": "https://localhost:8080/"
        },
        "id": "pmaZ9wwGWR8i",
        "outputId": "ef29f045-c556-4d63-ac2f-9f6d2c99e67b"
      },
      "execution_count": 10,
      "outputs": [
        {
          "output_type": "stream",
          "name": "stdout",
          "text": [
            "Comparação de um array com um escalar (>): \n",
            " [[False False]\n",
            " [ True  True]]\n",
            "Comparação de um array com um escalar (>=): \n",
            " [[False  True]\n",
            " [ True  True]]\n",
            "Comparação de um array com um escalar (<): \n",
            " [[ True False]\n",
            " [False False]]\n",
            "Comparação de um array com um escalar (<=): \n",
            " [[ True  True]\n",
            " [False False]]\n",
            "Comparação entre arrays (==): \n",
            " [[False False]\n",
            " [False False]]\n",
            "Comparação entre arrays (>):\n",
            " [[False False]\n",
            " [ True  True]]\n"
          ]
        }
      ]
    },
    {
      "cell_type": "markdown",
      "source": [
        "#**INDEXAÇÃO BOOLEANA**\n",
        "\n",
        "- operação de filtro\n",
        "- retorna um subarray contendo somente a cópia dos elementos em que a condição de verificação se aplica."
      ],
      "metadata": {
        "id": "5S3QZLWTTtZT"
      }
    },
    {
      "cell_type": "code",
      "source": [
        "# dado o array A dos exemplos acima, queremos verificar a seguinte condição::\n",
        "\n",
        "cond = A <= 2\n",
        "D = A[cond]\n",
        "\n",
        "print('Condição:', cond)\n",
        "print('Subarray retornado: ', D)\n",
        "\n",
        "# o subarray retornado (D) só mostra os valores em que a condição é verdadeira."
      ],
      "metadata": {
        "colab": {
          "base_uri": "https://localhost:8080/"
        },
        "id": "jDLAh4M3UHUt",
        "outputId": "d6bcbfff-d71b-4424-8b10-03097f204611"
      },
      "execution_count": 8,
      "outputs": [
        {
          "output_type": "stream",
          "name": "stdout",
          "text": [
            "Condição: [ True  True False]\n",
            "Subarray retornado:  [1 2]\n"
          ]
        }
      ]
    },
    {
      "cell_type": "code",
      "source": [
        "# Outro exemplo: vamos criar um outro array primeiro\n",
        "\n",
        "m = np.array([[1,3,7],\n",
        "              [4,11,21],\n",
        "              [42,8,9]])\n",
        "\n",
        "print('m: \\n', m)"
      ],
      "metadata": {
        "colab": {
          "base_uri": "https://localhost:8080/"
        },
        "id": "A0dcnaQ5YhKb",
        "outputId": "ff55e983-dbe0-4f35-c4b0-1dcd36171316"
      },
      "execution_count": 11,
      "outputs": [
        {
          "output_type": "stream",
          "name": "stdout",
          "text": [
            "m: \n",
            " [[ 1  3  7]\n",
            " [ 4 11 21]\n",
            " [42  8  9]]\n"
          ]
        }
      ]
    },
    {
      "cell_type": "code",
      "source": [
        "# Agora sim, outro exemplo de indexação booleana: retornar o número de elementos maiores que k\n",
        "\n",
        "k = 10\n",
        "cond = m > k\n",
        "\n",
        "print('Elementos maiores que k: \\n', m[cond])"
      ],
      "metadata": {
        "colab": {
          "base_uri": "https://localhost:8080/"
        },
        "id": "uHFg38U9Y7P9",
        "outputId": "dd846ef9-94bb-420c-b92e-e5ac0e4579b7"
      },
      "execution_count": 14,
      "outputs": [
        {
          "output_type": "stream",
          "name": "stdout",
          "text": [
            "Elementos maiores que k: \n",
            " [11 21 42]\n"
          ]
        }
      ]
    },
    {
      "cell_type": "code",
      "source": [
        "# indexação booleana: extração de números pares\n",
        "\n",
        "cond = m % 2 == 0\n",
        "\n",
        "print('Números pares: \\n', m[cond])"
      ],
      "metadata": {
        "colab": {
          "base_uri": "https://localhost:8080/"
        },
        "id": "__YwR83kZnQF",
        "outputId": "888f4a44-a6a6-4851-8caa-d6c9462f94c8"
      },
      "execution_count": 13,
      "outputs": [
        {
          "output_type": "stream",
          "name": "stdout",
          "text": [
            "Números pares: \n",
            " [ 4 42  8]\n"
          ]
        }
      ]
    }
  ]
}