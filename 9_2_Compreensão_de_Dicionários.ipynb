{
  "nbformat": 4,
  "nbformat_minor": 0,
  "metadata": {
    "colab": {
      "provenance": [],
      "authorship_tag": "ABX9TyMAMJPeeybsGHUcz1WN+dz9",
      "include_colab_link": true
    },
    "kernelspec": {
      "name": "python3",
      "display_name": "Python 3"
    },
    "language_info": {
      "name": "python"
    }
  },
  "cells": [
    {
      "cell_type": "markdown",
      "metadata": {
        "id": "view-in-github",
        "colab_type": "text"
      },
      "source": [
        "<a href=\"https://colab.research.google.com/github/CibeleYamada/python_xpe_bootcamp/blob/main/9_2_Compreens%C3%A3o_de_Dicion%C3%A1rios.ipynb\" target=\"_parent\"><img src=\"https://colab.research.google.com/assets/colab-badge.svg\" alt=\"Open In Colab\"/></a>"
      ]
    },
    {
      "cell_type": "markdown",
      "source": [
        "# **COMPREENSÃO DE DICIONÁRIOS**"
      ],
      "metadata": {
        "id": "70qPaNGTYuF9"
      }
    },
    {
      "cell_type": "markdown",
      "source": [
        "- sintaxe semelhante à compreensão de listas;\n",
        "- diferença é que usamos chaves ao invés de colchetes, e o ITEM não vai ser único, e sim um par chave:valor."
      ],
      "metadata": {
        "id": "ynf5czgTY0oq"
      }
    },
    {
      "cell_type": "code",
      "source": [
        "# dict comprenhesion sem condicional \n",
        "{chave: valor for item in sequencia}"
      ],
      "metadata": {
        "id": "gbz6Vdf7xjxl"
      },
      "execution_count": null,
      "outputs": []
    },
    {
      "cell_type": "code",
      "execution_count": null,
      "metadata": {
        "id": "eV7q_3ExYtJ8"
      },
      "outputs": [],
      "source": [
        "# dict comprenhesion com condicional \n",
        "{chave: valor for item in sequencia if condicao}"
      ]
    },
    {
      "cell_type": "code",
      "source": [
        "# Exemplo 1: elevar todos os números ao quadrado; sem compreensão de dicionários\n",
        "\n",
        "dict1 = {}      # ao criar a variável com chaves, o Python já entende que é um dicionário\n",
        "for item in range(1, 11):\n",
        "  dict1[item] = item**2\n",
        "print(dict1)"
      ],
      "metadata": {
        "colab": {
          "base_uri": "https://localhost:8080/"
        },
        "id": "yfkcCKidyCuc",
        "outputId": "70cd4af0-df9a-4c0d-cf26-0a2bc57c8d62"
      },
      "execution_count": 1,
      "outputs": [
        {
          "output_type": "stream",
          "name": "stdout",
          "text": [
            "{1: 1, 2: 4, 3: 9, 4: 16, 5: 25, 6: 36, 7: 49, 8: 64, 9: 81, 10: 100}\n"
          ]
        }
      ]
    },
    {
      "cell_type": "code",
      "source": [
        "# O mesmo exemplo, mas usando a compreensão de dicionários:\n",
        "# sintaxe: {chave:valor for item in sequencia}\n",
        "\n",
        "dict2 = {item: item**2 for item in range(1,11)}\n",
        "print(dict2)"
      ],
      "metadata": {
        "colab": {
          "base_uri": "https://localhost:8080/"
        },
        "id": "rIXSWwJXy8j5",
        "outputId": "6f97aa7c-ee74-4c62-f11c-86d00bd55f19"
      },
      "execution_count": 4,
      "outputs": [
        {
          "output_type": "stream",
          "name": "stdout",
          "text": [
            "{1: 1, 2: 4, 3: 9, 4: 16, 5: 25, 6: 36, 7: 49, 8: 64, 9: 81, 10: 100}\n"
          ]
        }
      ]
    },
    {
      "cell_type": "code",
      "source": [
        "# Exemplo 2: apenas números ímpares elevados ao quadrado:\n",
        "# agora temos uma condição: só os números ímpares\n",
        "# usando a compreensão de dicionários:\n",
        "# sintaxe: {chave:valor FOR item IN sequencia IF condição}\n",
        "\n",
        "dict3 = {item:item**2 for item in range (1,11) if item % 2 != 0}\n",
        "print(dict3)"
      ],
      "metadata": {
        "colab": {
          "base_uri": "https://localhost:8080/"
        },
        "id": "kxeDluT-z0Ac",
        "outputId": "9fc126bf-4f5b-4247-a622-87967df09ad0"
      },
      "execution_count": 5,
      "outputs": [
        {
          "output_type": "stream",
          "name": "stdout",
          "text": [
            "{1: 1, 3: 9, 5: 25, 7: 49, 9: 81}\n"
          ]
        }
      ]
    }
  ]
}