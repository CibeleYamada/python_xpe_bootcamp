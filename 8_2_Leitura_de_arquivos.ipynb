{
  "nbformat": 4,
  "nbformat_minor": 0,
  "metadata": {
    "colab": {
      "provenance": [],
      "authorship_tag": "ABX9TyPGs3qwLu8j7jLqGBL87+AE",
      "include_colab_link": true
    },
    "kernelspec": {
      "name": "python3",
      "display_name": "Python 3"
    },
    "language_info": {
      "name": "python"
    }
  },
  "cells": [
    {
      "cell_type": "markdown",
      "metadata": {
        "id": "view-in-github",
        "colab_type": "text"
      },
      "source": [
        "<a href=\"https://colab.research.google.com/github/CibeleYamada/python_xpe_bootcamp/blob/main/8_2_Leitura_de_arquivos.ipynb\" target=\"_parent\"><img src=\"https://colab.research.google.com/assets/colab-badge.svg\" alt=\"Open In Colab\"/></a>"
      ]
    },
    {
      "cell_type": "markdown",
      "source": [
        "# LEITURA DE ARQUIVOS \n",
        "\n",
        "Antes de vermos como fazemos a leitura dos arquivos que estão no disco, vamos criar manualmente o arquivo **cidades.txt** com o seguinte conteúdo:\n",
        "\n",
        "\n",
        "\n",
        "- SP; São Paulo; 11895893 \n",
        "- RJ; Rio de Janeiro; 6453682 \n",
        "- BA; Salvador; 2902927 \n",
        "- DF; Brasília; 2852372 \n",
        "- CE; Fortaleza; 2571896 \n",
        "- MG; Belo Horizonte; 2491109 \n",
        "- AM; Manaus; 2020301 \n",
        "- PR; Curitiba; 1864416 \n",
        "- PE; Recife; 1608488 \n",
        "- RS; Porto Alegre; 1472482 \n",
        "- PA; Belém; 1432844 \n",
        "- GO; Goiânia; 1412364 \n",
        "- SP; Guarulhos; 1312197 \n",
        "- SP; Campinas; 1154617 \n",
        "- MA; São Luís; 1064197\n",
        "\n",
        "Obs: lista das 15 maiores cidades do Brasil.\n",
        "\n"
      ],
      "metadata": {
        "id": "xveJ9VwXJ9w-"
      }
    },
    {
      "cell_type": "code",
      "execution_count": 6,
      "metadata": {
        "id": "kXLr5RLAJ5I4"
      },
      "outputs": [],
      "source": [
        "# vamos abrir o arquivo cidades.txt em modo 'r' (leitura):\n",
        "\n",
        "arquivo = open('cidades.txt', 'r')"
      ]
    },
    {
      "cell_type": "markdown",
      "source": [
        "1) Abra o arquivo cidades.txt, clicando 2x no nome do arquivo, que está na pasta de arquivos do lado esquerdo da página.\n",
        "\n",
        "2) copie a lista e cole na área de manipulação de dados do arquivo, que abriu no lado direito da tela.\n",
        "\n",
        "3) importante: deixe sempre uma linha em branco (no caso, a linha 16) no fim do código. É meio que um padrão.\n",
        "\n"
      ],
      "metadata": {
        "id": "aHm4xB3OMAz6"
      }
    },
    {
      "cell_type": "markdown",
      "source": [
        "Após criado o arquivo, vamos seguir com a sua leitura.\n",
        "\n",
        "- existem 3 modos de leitura de arquivos:"
      ],
      "metadata": {
        "id": "zTqYiaftM5b6"
      }
    },
    {
      "cell_type": "markdown",
      "source": [
        "**Modo de leitura com o método READ**\n",
        "\n",
        "- faz a leitura de todas as linhas do arquivo de uma única vez, e armazena o conteúdo em uma variável do tipo *string*."
      ],
      "metadata": {
        "id": "KoJrFVI9NLjk"
      }
    },
    {
      "cell_type": "code",
      "source": [
        "# após aberto o arquivo: arquivo = open('cidades.txt', 'r')\n",
        "# vamos proceder a leitura com o método 'read'.\n",
        "\n",
        "linhas = arquivo.read()    # lendo o arquivo e armazenando os dados dentro da variável 'linhas'.\n",
        "arquivo.close()            # fechando o arquivo, porque já realizamos a leitura que precisávamos;\n",
        "\n",
        "print(linhas)              # agora podemos imprimir os dados porque temos uma variável que os armazena."
      ],
      "metadata": {
        "colab": {
          "base_uri": "https://localhost:8080/"
        },
        "id": "Yu5Wj9jUNKwQ",
        "outputId": "8a6bdfbb-3907-4be1-a0d8-23f9c685a16c"
      },
      "execution_count": 7,
      "outputs": [
        {
          "output_type": "stream",
          "name": "stdout",
          "text": [
            "SP; São Paulo; 11895893\n",
            "RJ; Rio de Janeiro; 6453682\n",
            "BA; Salvador; 2902927\n",
            "DF; Brasília; 2852372\n",
            "CE; Fortaleza; 2571896\n",
            "MG; Belo Horizonte; 2491109\n",
            "AM; Manaus; 2020301\n",
            "PR; Curitiba; 1864416\n",
            "PE; Recife; 1608488\n",
            "RS; Porto Alegre; 1472482\n",
            "PA; Belém; 1432844\n",
            "GO; Goiânia; 1412364\n",
            "SP; Guarulhos; 1312197\n",
            "SP; Campinas; 1154617\n",
            "MA; São Luís; 1064197\n",
            "\n"
          ]
        }
      ]
    },
    {
      "cell_type": "markdown",
      "source": [
        "Usando esse modo de leitura, não é possível manipular os dados. Dessa forma, talvez não seja muito útil que você armazene todos os dados em uma variável única. O ideal é que se armazene cada linha como se fosse um valor. Então usaremos a estrutura de dados do tipo LISTA e, com isso, criaremos uma LISTA de LINHAS, ao invés de armazenar todas as linhas em uma variável única.\n",
        "-Para isso usamos uma outra função: **readlines**"
      ],
      "metadata": {
        "id": "q6E_9xebPDrl"
      }
    },
    {
      "cell_type": "markdown",
      "source": [
        "**Modo de leitura com o método READLINES**\n",
        "\n",
        "- faz o mesmo processo: abre o arquivo no modo somente leitura 'r';\n",
        "- retorna uma *lista* de strings"
      ],
      "metadata": {
        "id": "5ND8ia-zP6-0"
      }
    },
    {
      "cell_type": "code",
      "source": [
        "arquivo = open('cidades.txt', 'r')\n",
        "linhas_lista = arquivo.readlines()\n",
        "arquivo.close()\n",
        "\n",
        "print(linhas_lista)\n",
        "\n",
        "# OBS: perceba (na impressão) que após cada linha ele colocou os caracteres \"\\n\", que significa 'quebra de linha'"
      ],
      "metadata": {
        "colab": {
          "base_uri": "https://localhost:8080/"
        },
        "id": "5WSPvp0JQYrD",
        "outputId": "17c5ef18-d93c-48c4-8ebf-6b1757303436"
      },
      "execution_count": 8,
      "outputs": [
        {
          "output_type": "stream",
          "name": "stdout",
          "text": [
            "['SP; São Paulo; 11895893\\n', 'RJ; Rio de Janeiro; 6453682\\n', 'BA; Salvador; 2902927\\n', 'DF; Brasília; 2852372\\n', 'CE; Fortaleza; 2571896\\n', 'MG; Belo Horizonte; 2491109\\n', 'AM; Manaus; 2020301\\n', 'PR; Curitiba; 1864416\\n', 'PE; Recife; 1608488\\n', 'RS; Porto Alegre; 1472482\\n', 'PA; Belém; 1432844\\n', 'GO; Goiânia; 1412364\\n', 'SP; Guarulhos; 1312197\\n', 'SP; Campinas; 1154617\\n', 'MA; São Luís; 1064197\\n']\n"
          ]
        }
      ]
    },
    {
      "cell_type": "code",
      "source": [
        "# vamos ver qual o tipo da variável gerada pelo método readlines:\n",
        "\n",
        "type(linhas_lista)\n",
        "\n",
        "# o tipo é uma lista, onde cada elemento da lista é uma string.\n",
        "\n"
      ],
      "metadata": {
        "colab": {
          "base_uri": "https://localhost:8080/"
        },
        "id": "CJWb8WvkRNOk",
        "outputId": "70e77121-b4cc-48f1-9f9c-2ec56765400a"
      },
      "execution_count": 10,
      "outputs": [
        {
          "output_type": "execute_result",
          "data": {
            "text/plain": [
              "list"
            ]
          },
          "metadata": {},
          "execution_count": 10
        }
      ]
    },
    {
      "cell_type": "markdown",
      "source": [
        "Verrificar a quantidade de linhas do arquivo: LEN\n",
        "\n",
        "---\n",
        "\n"
      ],
      "metadata": {
        "id": "oNlNnUcYRdta"
      }
    },
    {
      "cell_type": "code",
      "source": [
        "len(linhas_lista)"
      ],
      "metadata": {
        "colab": {
          "base_uri": "https://localhost:8080/"
        },
        "id": "hLCI3z8Vhp0w",
        "outputId": "5057a31c-c3c8-42b1-9fac-e1e1fb4bf742"
      },
      "execution_count": 11,
      "outputs": [
        {
          "output_type": "execute_result",
          "data": {
            "text/plain": [
              "15"
            ]
          },
          "metadata": {},
          "execution_count": 11
        }
      ]
    },
    {
      "cell_type": "markdown",
      "source": [
        "**Removendo quebras de linhas**\n",
        "\n",
        "- método rstrip()\n",
        "- mantém a quantidade de linhas, mas remove os caracteres em branco e as quebras de linha (\\n)"
      ],
      "metadata": {
        "id": "9DnngJrUjvBQ"
      }
    },
    {
      "cell_type": "code",
      "source": [
        "# Criando uma nova lista vazia, removendo a quebra de linha (\\n) no final de cada linha\n",
        "# o método rstrip() remove caracteres em branco e quebras de linha ao final de uma string.\n",
        "\n",
        "novas_linhas = [] \n",
        "for linha in linhas_lista: \n",
        "  novas_linhas.append(linha.rstrip()) \n",
        "print(novas_linhas)"
      ],
      "metadata": {
        "colab": {
          "base_uri": "https://localhost:8080/"
        },
        "id": "PdstBlk9h7pT",
        "outputId": "9f2de5a7-ff68-47ab-b783-f6ef791f93a7"
      },
      "execution_count": 16,
      "outputs": [
        {
          "output_type": "stream",
          "name": "stdout",
          "text": [
            "['SP; São Paulo; 11895893', 'RJ; Rio de Janeiro; 6453682', 'BA; Salvador; 2902927', 'DF; Brasília; 2852372', 'CE; Fortaleza; 2571896', 'MG; Belo Horizonte; 2491109', 'AM; Manaus; 2020301', 'PR; Curitiba; 1864416', 'PE; Recife; 1608488', 'RS; Porto Alegre; 1472482', 'PA; Belém; 1432844', 'GO; Goiânia; 1412364', 'SP; Guarulhos; 1312197', 'SP; Campinas; 1154617', 'MA; São Luís; 1064197']\n"
          ]
        }
      ]
    },
    {
      "cell_type": "markdown",
      "source": [
        "**Iterar sobre o arquivo**\n",
        "\n",
        "- o arquivo também é uma estrutura iterável, pois é uma sequência;\n",
        "- cada posição é uma linha do arquivo."
      ],
      "metadata": {
        "id": "WXVWW5mmkGNw"
      }
    },
    {
      "cell_type": "code",
      "source": [
        "arquivo = open('cidades.txt', 'r')\n",
        "for linha in arquivo:\n",
        "  print(linha.rstrip())\n",
        "arquivo.close()"
      ],
      "metadata": {
        "colab": {
          "base_uri": "https://localhost:8080/"
        },
        "id": "Vmo5ssv2kcE1",
        "outputId": "ff44bc6d-3406-43f2-8441-10e7a6de8f0a"
      },
      "execution_count": 17,
      "outputs": [
        {
          "output_type": "stream",
          "name": "stdout",
          "text": [
            "SP; São Paulo; 11895893\n",
            "RJ; Rio de Janeiro; 6453682\n",
            "BA; Salvador; 2902927\n",
            "DF; Brasília; 2852372\n",
            "CE; Fortaleza; 2571896\n",
            "MG; Belo Horizonte; 2491109\n",
            "AM; Manaus; 2020301\n",
            "PR; Curitiba; 1864416\n",
            "PE; Recife; 1608488\n",
            "RS; Porto Alegre; 1472482\n",
            "PA; Belém; 1432844\n",
            "GO; Goiânia; 1412364\n",
            "SP; Guarulhos; 1312197\n",
            "SP; Campinas; 1154617\n",
            "MA; São Luís; 1064197\n"
          ]
        }
      ]
    },
    {
      "cell_type": "markdown",
      "source": [
        "**Somar dados do arquivo**"
      ],
      "metadata": {
        "id": "S8uGy5hclJju"
      }
    },
    {
      "cell_type": "code",
      "source": [
        "arquivo = open('cidades.txt', 'r')\n",
        "\n",
        "soma = 0\n",
        "for linha in arquivo:\n",
        "    cidade = linha.split(' ')\n",
        "    populacao = int(cidade[-1])\n",
        "    print(populacao)\n",
        "    soma = soma + populacao\n",
        "arquivo.close()\n",
        "print(f'O total da soma das 15 maiores populações do Brasil é {soma}.')"
      ],
      "metadata": {
        "colab": {
          "base_uri": "https://localhost:8080/"
        },
        "id": "wQvEXzNVlRZm",
        "outputId": "77f41f7f-fd5f-4de6-e7f6-319ff8171eef"
      },
      "execution_count": 25,
      "outputs": [
        {
          "output_type": "stream",
          "name": "stdout",
          "text": [
            "11895893\n",
            "6453682\n",
            "2902927\n",
            "2852372\n",
            "2571896\n",
            "2491109\n",
            "2020301\n",
            "1864416\n",
            "1608488\n",
            "1472482\n",
            "1432844\n",
            "1412364\n",
            "1312197\n",
            "1154617\n",
            "1064197\n",
            "O total da soma das 15 maiores populações do Brasil é 42509785.\n"
          ]
        }
      ]
    }
  ]
}