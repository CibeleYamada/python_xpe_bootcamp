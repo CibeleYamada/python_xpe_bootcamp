{
  "nbformat": 4,
  "nbformat_minor": 0,
  "metadata": {
    "colab": {
      "provenance": [],
      "authorship_tag": "ABX9TyM049dJkm4Wl0sldB3Kqx9v",
      "include_colab_link": true
    },
    "kernelspec": {
      "name": "python3",
      "display_name": "Python 3"
    },
    "language_info": {
      "name": "python"
    }
  },
  "cells": [
    {
      "cell_type": "markdown",
      "metadata": {
        "id": "view-in-github",
        "colab_type": "text"
      },
      "source": [
        "<a href=\"https://colab.research.google.com/github/CibeleYamada/python_xpe_bootcamp/blob/main/9_4_Atribui%C3%A7%C3%A3o_Condicional_em_uma_Linha.ipynb\" target=\"_parent\"><img src=\"https://colab.research.google.com/assets/colab-badge.svg\" alt=\"Open In Colab\"/></a>"
      ]
    },
    {
      "cell_type": "markdown",
      "source": [
        "#**ATRIBUIÇÃO CONDICIONAL**"
      ],
      "metadata": {
        "id": "q_VEqYb01Rx1"
      }
    },
    {
      "cell_type": "markdown",
      "source": [
        "- ao invés de utilizar toda a estrutura condicional com if-else, vamos usar somente 1 linha de código.\n",
        "- sintaxe:\n"
      ],
      "metadata": {
        "id": "rKLRtNbL1WPc"
      }
    },
    {
      "cell_type": "code",
      "execution_count": null,
      "metadata": {
        "id": "9zlth0uV1MPb"
      },
      "outputs": [],
      "source": [
        "valor_se_verdadeiro if condicao else valor_se_falso"
      ]
    },
    {
      "cell_type": "code",
      "source": [
        "# Exemplo 1: usando condicional normal\n",
        "# se o nome tiver mais que 5 letras, o valor será igual a 100 e se for igual ou menor, será 0.\n",
        "\n",
        "nome = 'antonio'\n",
        "\n",
        "if len(nome) > 5:\n",
        "  valor = 100\n",
        "else:\n",
        "  valor = 0\n",
        "print(f'O valor é: {valor}.')\n",
        "\n"
      ],
      "metadata": {
        "colab": {
          "base_uri": "https://localhost:8080/"
        },
        "id": "IyDWNrv04kDY",
        "outputId": "30e5f899-7aba-4ea3-c63b-1310c8024765"
      },
      "execution_count": 1,
      "outputs": [
        {
          "output_type": "stream",
          "name": "stdout",
          "text": [
            "O valor é: 100.\n"
          ]
        }
      ]
    },
    {
      "cell_type": "code",
      "source": [
        "# O mesmo exemplo usando apenas 1 linha de código.\n",
        "# sintaxe: valor_se_verdadeiro IF condição ELSE valor_se_falso\n",
        "\n",
        "nome2 = 'davi'\n",
        "valor = 100 if len(nome2) > 5 else 0\n",
        "print(f'O valor é: {valor}.')"
      ],
      "metadata": {
        "colab": {
          "base_uri": "https://localhost:8080/"
        },
        "id": "oPYVKEaw5XGC",
        "outputId": "194bc340-eda7-412c-b713-230951bb60e9"
      },
      "execution_count": 4,
      "outputs": [
        {
          "output_type": "stream",
          "name": "stdout",
          "text": [
            "O valor é: 0.\n"
          ]
        }
      ]
    },
    {
      "cell_type": "markdown",
      "source": [
        "OBS: essa forma de condicional não pode ficar sem o ELSE, diferentemente da forma convencional das estruturas condicionais."
      ],
      "metadata": {
        "id": "2L5jvUft_uNc"
      }
    }
  ]
}