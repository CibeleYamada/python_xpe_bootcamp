{
  "nbformat": 4,
  "nbformat_minor": 0,
  "metadata": {
    "colab": {
      "provenance": [],
      "authorship_tag": "ABX9TyM3oHQOCZHz5NCQH67gmEkh",
      "include_colab_link": true
    },
    "kernelspec": {
      "name": "python3",
      "display_name": "Python 3"
    },
    "language_info": {
      "name": "python"
    }
  },
  "cells": [
    {
      "cell_type": "markdown",
      "metadata": {
        "id": "view-in-github",
        "colab_type": "text"
      },
      "source": [
        "<a href=\"https://colab.research.google.com/github/CibeleYamada/python_xpe_bootcamp/blob/main/Pt2_Aula2_2_Cria%C3%A7%C3%A3o_de_arrays.ipynb\" target=\"_parent\"><img src=\"https://colab.research.google.com/assets/colab-badge.svg\" alt=\"Open In Colab\"/></a>"
      ]
    },
    {
      "cell_type": "markdown",
      "source": [
        "# **NUMPY**"
      ],
      "metadata": {
        "id": "JRw456MOmRdj"
      }
    },
    {
      "cell_type": "code",
      "source": [
        "# importando a biblioteca Numpy e a apelidando de 'np' - que já é comum entre a comunidade\n",
        "\n",
        "import numpy as np"
      ],
      "metadata": {
        "id": "JHOPVPPKmYgX"
      },
      "execution_count": 1,
      "outputs": []
    },
    {
      "cell_type": "markdown",
      "source": [
        "# **Criação de arrays**"
      ],
      "metadata": {
        "id": "_mDs4og6l_nm"
      }
    },
    {
      "cell_type": "markdown",
      "source": [
        "- para usar o numpy array, usamos o método:\n",
        "\n",
        "**(np.array)** ou (numpy.array)"
      ],
      "metadata": {
        "id": "kG2ToK_Jm810"
      }
    },
    {
      "cell_type": "code",
      "execution_count": 2,
      "metadata": {
        "colab": {
          "base_uri": "https://localhost:8080/"
        },
        "id": "v0jJj_UdljlA",
        "outputId": "a7606d82-e941-41f0-ae41-b0da39e5c88f"
      },
      "outputs": [
        {
          "output_type": "stream",
          "name": "stdout",
          "text": [
            "Help on built-in function array in module numpy:\n",
            "\n",
            "array(...)\n",
            "    array(object, dtype=None, *, copy=True, order='K', subok=False, ndmin=0,\n",
            "          like=None)\n",
            "    \n",
            "    Create an array.\n",
            "    \n",
            "    Parameters\n",
            "    ----------\n",
            "    object : array_like\n",
            "        An array, any object exposing the array interface, an object whose\n",
            "        __array__ method returns an array, or any (nested) sequence.\n",
            "        If object is a scalar, a 0-dimensional array containing object is\n",
            "        returned.\n",
            "    dtype : data-type, optional\n",
            "        The desired data-type for the array.  If not given, then the type will\n",
            "        be determined as the minimum type required to hold the objects in the\n",
            "        sequence.\n",
            "    copy : bool, optional\n",
            "        If true (default), then the object is copied.  Otherwise, a copy will\n",
            "        only be made if __array__ returns a copy, if obj is a nested sequence,\n",
            "        or if a copy is needed to satisfy any of the other requirements\n",
            "        (`dtype`, `order`, etc.).\n",
            "    order : {'K', 'A', 'C', 'F'}, optional\n",
            "        Specify the memory layout of the array. If object is not an array, the\n",
            "        newly created array will be in C order (row major) unless 'F' is\n",
            "        specified, in which case it will be in Fortran order (column major).\n",
            "        If object is an array the following holds.\n",
            "    \n",
            "        ===== ========= ===================================================\n",
            "        order  no copy                     copy=True\n",
            "        ===== ========= ===================================================\n",
            "        'K'   unchanged F & C order preserved, otherwise most similar order\n",
            "        'A'   unchanged F order if input is F and not C, otherwise C order\n",
            "        'C'   C order   C order\n",
            "        'F'   F order   F order\n",
            "        ===== ========= ===================================================\n",
            "    \n",
            "        When ``copy=False`` and a copy is made for other reasons, the result is\n",
            "        the same as if ``copy=True``, with some exceptions for 'A', see the\n",
            "        Notes section. The default order is 'K'.\n",
            "    subok : bool, optional\n",
            "        If True, then sub-classes will be passed-through, otherwise\n",
            "        the returned array will be forced to be a base-class array (default).\n",
            "    ndmin : int, optional\n",
            "        Specifies the minimum number of dimensions that the resulting\n",
            "        array should have.  Ones will be pre-pended to the shape as\n",
            "        needed to meet this requirement.\n",
            "    like : array_like\n",
            "        Reference object to allow the creation of arrays which are not\n",
            "        NumPy arrays. If an array-like passed in as ``like`` supports\n",
            "        the ``__array_function__`` protocol, the result will be defined\n",
            "        by it. In this case, it ensures the creation of an array object\n",
            "        compatible with that passed in via this argument.\n",
            "    \n",
            "        .. versionadded:: 1.20.0\n",
            "    \n",
            "    Returns\n",
            "    -------\n",
            "    out : ndarray\n",
            "        An array object satisfying the specified requirements.\n",
            "    \n",
            "    See Also\n",
            "    --------\n",
            "    empty_like : Return an empty array with shape and type of input.\n",
            "    ones_like : Return an array of ones with shape and type of input.\n",
            "    zeros_like : Return an array of zeros with shape and type of input.\n",
            "    full_like : Return a new array with shape of input filled with value.\n",
            "    empty : Return a new uninitialized array.\n",
            "    ones : Return a new array setting values to one.\n",
            "    zeros : Return a new array setting values to zero.\n",
            "    full : Return a new array of given shape filled with value.\n",
            "    \n",
            "    \n",
            "    Notes\n",
            "    -----\n",
            "    When order is 'A' and `object` is an array in neither 'C' nor 'F' order,\n",
            "    and a copy is forced by a change in dtype, then the order of the result is\n",
            "    not necessarily 'C' as expected. This is likely a bug.\n",
            "    \n",
            "    Examples\n",
            "    --------\n",
            "    >>> np.array([1, 2, 3])\n",
            "    array([1, 2, 3])\n",
            "    \n",
            "    Upcasting:\n",
            "    \n",
            "    >>> np.array([1, 2, 3.0])\n",
            "    array([ 1.,  2.,  3.])\n",
            "    \n",
            "    More than one dimension:\n",
            "    \n",
            "    >>> np.array([[1, 2], [3, 4]])\n",
            "    array([[1, 2],\n",
            "           [3, 4]])\n",
            "    \n",
            "    Minimum dimensions 2:\n",
            "    \n",
            "    >>> np.array([1, 2, 3], ndmin=2)\n",
            "    array([[1, 2, 3]])\n",
            "    \n",
            "    Type provided:\n",
            "    \n",
            "    >>> np.array([1, 2, 3], dtype=complex)\n",
            "    array([ 1.+0.j,  2.+0.j,  3.+0.j])\n",
            "    \n",
            "    Data-type consisting of more than one element:\n",
            "    \n",
            "    >>> x = np.array([(1,2),(3,4)],dtype=[('a','<i4'),('b','<i4')])\n",
            "    >>> x['a']\n",
            "    array([1, 3])\n",
            "    \n",
            "    Creating an array from sub-classes:\n",
            "    \n",
            "    >>> np.array(np.mat('1 2; 3 4'))\n",
            "    array([[1, 2],\n",
            "           [3, 4]])\n",
            "    \n",
            "    >>> np.array(np.mat('1 2; 3 4'), subok=True)\n",
            "    matrix([[1, 2],\n",
            "            [3, 4]])\n",
            "\n"
          ]
        }
      ],
      "source": [
        "# dica: a primeira vez que usarmos qualquer método, é sempre usar o 'help' desse método para poder ver casos de uso e como usar o método em específico.\n",
        "# Para chamar o 'help' do método, usamos o termo 'help' seguido do método:\n",
        "\n",
        "help(np.array)\n",
        "\n",
        "# também pode ser chamado de outra forma: 'np.array?'"
      ]
    },
    {
      "cell_type": "code",
      "source": [
        "# Criação de array 1D (unidimensional): [1, 2, 3]\n",
        "\n",
        "# a) criamos uma lista:\n",
        "l = [1, 2, 3]\n",
        "\n",
        "# b) para chamar o array, usamos:\n",
        "x = np.array(l)\n",
        "\n",
        "print(x)            # retorna o array\n",
        "print(x.shape)      # retorna o shape do array\n",
        "\n",
        "# lembrando que o shape é a quantidade de elementos que tem em cada eixo."
      ],
      "metadata": {
        "colab": {
          "base_uri": "https://localhost:8080/"
        },
        "id": "TTieN2bLn2SQ",
        "outputId": "0d05faeb-429c-4f87-f697-46d89096fdf4"
      },
      "execution_count": 3,
      "outputs": [
        {
          "output_type": "stream",
          "name": "stdout",
          "text": [
            "[1 2 3]\n",
            "(3,)\n"
          ]
        }
      ]
    },
    {
      "cell_type": "code",
      "source": [
        "# teríamos o mesmo resultado, se colocássemos a lista diretamente na chamada do array:\n",
        "\n",
        "x = np.array([1, 2, 3])"
      ],
      "metadata": {
        "id": "vjGr1gQ3rMda"
      },
      "execution_count": null,
      "outputs": []
    },
    {
      "cell_type": "code",
      "source": [
        "# Criação de um array 2D (bidimensional) - listas aninhadas\n",
        "# Criamos uma lista de listas (listas aninhadas); estamos criando uma matriz em que a primeira lista representa a 1ª linha e a 2ª lista representa a 2ª linha da matriz. \n",
        "\n",
        "l2 = [[1,2],[3,4]]   # cada bloco é uma linha\n",
        "y = np.array(l2)\n",
        "print(y)\n",
        "print(y.shape)"
      ],
      "metadata": {
        "colab": {
          "base_uri": "https://localhost:8080/"
        },
        "id": "IJRG4dR2pMTF",
        "outputId": "1bb88743-be73-4f6e-9f0c-e253c179b5ff"
      },
      "execution_count": 5,
      "outputs": [
        {
          "output_type": "stream",
          "name": "stdout",
          "text": [
            "[[1 2]\n",
            " [3 4]]\n",
            "(2, 2)\n"
          ]
        }
      ]
    },
    {
      "cell_type": "code",
      "source": [
        "# verificando os tipos das variáveis x, observamos que elas são do tipo numpy array\n",
        "\n",
        "type(x)\n"
      ],
      "metadata": {
        "colab": {
          "base_uri": "https://localhost:8080/"
        },
        "id": "aLr2FisWp42T",
        "outputId": "e61c31de-b825-4407-c919-da0415d488b3"
      },
      "execution_count": 7,
      "outputs": [
        {
          "output_type": "execute_result",
          "data": {
            "text/plain": [
              "numpy.ndarray"
            ]
          },
          "metadata": {},
          "execution_count": 7
        }
      ]
    },
    {
      "cell_type": "markdown",
      "source": [
        "**Algumas funções com os arrays**\n",
        "\n",
        "- np.zeros(dimensão) - cria array contendo apenas zeros.\n",
        "- np.ones(dimensão) - cria array contendo apenas números 1.\n",
        "- np.linspace(inicio = , fim = , numero de elementos =  ) - cria um array com valores linearmente espaçados dentro de um intervalo. É útil para regressões lineares.\n",
        "- np.eye(n) - cria uma matriz identidade (aquela em que o número de linhas é igual o número de colunas e a diagonal principal tem valores iguais a 1 e as demais posições valem 0). 'n' é o número de linhas (que vai ser igual ao de colunas).\n",
        "- np.random.random(size=()) - cria um array com valores aleatórios entre 0 e 1."
      ],
      "metadata": {
        "id": "QjpPJ8glsIBa"
      }
    },
    {
      "cell_type": "code",
      "source": [
        "# Criando arrays que contem apenas 0 (zeros):\n",
        "\n",
        "# a) Array 1D com shape 5:\n",
        "z = np.zeros(5)\n",
        "print('array 1D: ', z)\n",
        "\n",
        "# b) Array 2D com shape(2,3) - 2 linhas e 3 colunas:\n",
        "t = np.zeros((2,3))\n",
        "print('array 2D: \\n', t)       # lembrando que \\n é quebra de linha"
      ],
      "metadata": {
        "colab": {
          "base_uri": "https://localhost:8080/"
        },
        "id": "KPLG6hn5sPjz",
        "outputId": "ea416e36-c8b6-4b08-9eee-417697fe50ae"
      },
      "execution_count": 12,
      "outputs": [
        {
          "output_type": "stream",
          "name": "stdout",
          "text": [
            "array 1D:  [0. 0. 0. 0. 0.]\n",
            "array 2D: \n",
            " [[0. 0. 0.]\n",
            " [0. 0. 0.]]\n"
          ]
        }
      ]
    },
    {
      "cell_type": "code",
      "source": [
        "# Criando arrays que contém apenas 1 (um):\n",
        "\n",
        "# a) Array 1D com shape 3:\n",
        "n = np.ones(3)\n",
        "print('Array 1D: ', n)\n",
        "\n",
        "# b) Array 2D com shape (3,3):\n",
        "m = np.ones((3,3))\n",
        "print('Array 2D: \\n', m)"
      ],
      "metadata": {
        "colab": {
          "base_uri": "https://localhost:8080/"
        },
        "id": "IdZBOpgBsFCi",
        "outputId": "717829af-fb8c-4803-c492-516075f618b6"
      },
      "execution_count": 13,
      "outputs": [
        {
          "output_type": "stream",
          "name": "stdout",
          "text": [
            "Array 1D:  [1. 1. 1.]\n",
            "Array 2D: \n",
            " [[1. 1. 1.]\n",
            " [1. 1. 1.]\n",
            " [1. 1. 1.]]\n"
          ]
        }
      ]
    },
    {
      "cell_type": "markdown",
      "source": [
        "OBS: repare que nos arrays criados, os números vieram com pontos (são, portanto, float). Podemos forçar a criação de 0 e 1 como números inteiros, usando **dtype=int**. Ex:"
      ],
      "metadata": {
        "id": "IEl-ylE7vLuh"
      }
    },
    {
      "cell_type": "code",
      "source": [
        "a = np.ones((3), dtype=int)\n",
        "print(a)"
      ],
      "metadata": {
        "colab": {
          "base_uri": "https://localhost:8080/"
        },
        "id": "3cxr5Wzjvol4",
        "outputId": "3a303416-dbc1-4bcd-c213-c41625b97b19"
      },
      "execution_count": 14,
      "outputs": [
        {
          "output_type": "stream",
          "name": "stdout",
          "text": [
            "[1 1 1]\n"
          ]
        }
      ]
    },
    {
      "cell_type": "code",
      "source": [
        "# Criação de array com valores linearmente espaçados dentro de um intervalo.\n",
        "# Sintaxe: np.linspace(start= , stop= , num= )\n",
        "\n",
        "# Vamos criar um array com 6 elementos, cujos valores devem ficar entre 5 a 15.\n",
        "\n",
        "b = np.linspace(start= 5, stop= 15, num= 6, dtype=int)     # ainda usamos o dtype=int para forçar a escolha de números inteiros\n",
        "print(b)\n",
        "print(b.shape)"
      ],
      "metadata": {
        "colab": {
          "base_uri": "https://localhost:8080/"
        },
        "id": "UvibYd77w88v",
        "outputId": "55cc97d1-36be-4329-ee7f-4201145d9882"
      },
      "execution_count": 17,
      "outputs": [
        {
          "output_type": "stream",
          "name": "stdout",
          "text": [
            "[ 5  7  9 11 13 15]\n",
            "(6,)\n"
          ]
        }
      ]
    },
    {
      "cell_type": "code",
      "source": [
        "# Criação de uma matriz identidade.\n",
        "# Sintaxe: np.eye(n) em que 'n' é o número de linhas=colunas.\n",
        "\n",
        "c = np.eye(4)\n",
        "print(c)"
      ],
      "metadata": {
        "colab": {
          "base_uri": "https://localhost:8080/"
        },
        "id": "LpHLLcvszKnX",
        "outputId": "92e09a31-d374-4df7-c028-372ba8231fea"
      },
      "execution_count": 21,
      "outputs": [
        {
          "output_type": "stream",
          "name": "stdout",
          "text": [
            "[[1. 0. 0. 0.]\n",
            " [0. 1. 0. 0.]\n",
            " [0. 0. 1. 0.]\n",
            " [0. 0. 0. 1.]]\n"
          ]
        }
      ]
    },
    {
      "cell_type": "code",
      "source": [
        "# Criação de uma matriz com valores aleatórios:\n",
        "# Sintaxe: np.random.random(size=())\n",
        "\n",
        "d = np.random.random(size=(2, 3))      # tamanho(2,3)= 2 linhas, 3 colunas\n",
        "print(d)"
      ],
      "metadata": {
        "colab": {
          "base_uri": "https://localhost:8080/"
        },
        "id": "bnPlQyLB0Tum",
        "outputId": "a43a04cc-c0c3-460c-fc4c-423d5cdec4fb"
      },
      "execution_count": 23,
      "outputs": [
        {
          "output_type": "stream",
          "name": "stdout",
          "text": [
            "[[0.70379423 0.03365494 0.80606983]\n",
            " [0.63860698 0.23707371 0.31013694]]\n"
          ]
        }
      ]
    },
    {
      "cell_type": "code",
      "source": [
        "help(np.random.random)    # ajuda sobre o np.random.random"
      ],
      "metadata": {
        "colab": {
          "base_uri": "https://localhost:8080/"
        },
        "id": "RBpGFG4V2FW9",
        "outputId": "0c969b93-bcc1-4efb-cab8-fef44e612cff"
      },
      "execution_count": 24,
      "outputs": [
        {
          "output_type": "stream",
          "name": "stdout",
          "text": [
            "Help on built-in function random:\n",
            "\n",
            "random(...) method of numpy.random.mtrand.RandomState instance\n",
            "    random(size=None)\n",
            "    \n",
            "    Return random floats in the half-open interval [0.0, 1.0). Alias for\n",
            "    `random_sample` to ease forward-porting to the new random API.\n",
            "\n"
          ]
        }
      ]
    }
  ]
}