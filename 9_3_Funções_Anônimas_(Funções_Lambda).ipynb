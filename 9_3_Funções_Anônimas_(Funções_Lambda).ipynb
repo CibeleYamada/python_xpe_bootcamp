{
  "nbformat": 4,
  "nbformat_minor": 0,
  "metadata": {
    "colab": {
      "provenance": [],
      "authorship_tag": "ABX9TyPBEKAGhKfDNjY9yXIDIkWz",
      "include_colab_link": true
    },
    "kernelspec": {
      "name": "python3",
      "display_name": "Python 3"
    },
    "language_info": {
      "name": "python"
    }
  },
  "cells": [
    {
      "cell_type": "markdown",
      "metadata": {
        "id": "view-in-github",
        "colab_type": "text"
      },
      "source": [
        "<a href=\"https://colab.research.google.com/github/CibeleYamada/python_xpe_bootcamp/blob/main/9_3_Fun%C3%A7%C3%B5es_An%C3%B4nimas_(Fun%C3%A7%C3%B5es_Lambda).ipynb\" target=\"_parent\"><img src=\"https://colab.research.google.com/assets/colab-badge.svg\" alt=\"Open In Colab\"/></a>"
      ]
    },
    {
      "cell_type": "markdown",
      "source": [
        "# **FUNÇÕES ANÔNIMAS (FUNÇÕES LAMBDA)**"
      ],
      "metadata": {
        "id": "W8BeXNGu1TIS"
      }
    },
    {
      "cell_type": "markdown",
      "source": [
        "- São funções que não precisamos usar a declaração explícitas delas e que podemos usá-las como se fossem variáveis ou um tipo de valor. Ou seja, são funções SEM NOME (por isso, anônimas).\n",
        "- As funções tradicionais são definidas usando a palavra **def**, já as funções anônimas são definidas usando a palavra-chave **lambda**.\n",
        "- sintaxe:"
      ],
      "metadata": {
        "id": "WNFd7Iof1ak0"
      }
    },
    {
      "cell_type": "code",
      "source": [
        "# lambda argumentos:<expressão>"
      ],
      "metadata": {
        "id": "ZbfBKGNk2w8m"
      },
      "execution_count": null,
      "outputs": []
    },
    {
      "cell_type": "markdown",
      "source": [
        "- As funções lambdas podem ter um número 'n' de argumentos, mas somente 1 expressão.\n",
        "- a expressão e computada e o resultado é retornado. Por isso, nessas funções NÃO é necessário declarar a palavra-chave **return**."
      ],
      "metadata": {
        "id": "VgY512kX24oA"
      }
    },
    {
      "cell_type": "code",
      "execution_count": 1,
      "metadata": {
        "colab": {
          "base_uri": "https://localhost:8080/"
        },
        "id": "6xJtknGr1KbD",
        "outputId": "7aa8602a-cf65-4bc4-8adb-a031c6fb643c"
      },
      "outputs": [
        {
          "output_type": "stream",
          "name": "stdout",
          "text": [
            "4\n"
          ]
        }
      ],
      "source": [
        "# Exemplo 1: declaração da função de um quadrado:\n",
        "\n",
        "area_quadrado = lambda lado:lado**2     # 'lado' (antes dos dois pontos) é o argumento; 'lado**2' é a expresão.\n",
        "\n",
        "# usando a função:\n",
        "\n",
        "print(area_quadrado(2))"
      ]
    },
    {
      "cell_type": "markdown",
      "source": [
        "Note que não definimos um nome para a função, mas atribuímos ela a uma variável (area_quadrado). Esta variável se tornou do tipo *function*."
      ],
      "metadata": {
        "id": "mo0RFzR74T7d"
      }
    },
    {
      "cell_type": "code",
      "source": [
        "# O mesmo exemplo anterior usando a declaração tradicional:\n",
        "\n",
        "def area_quadrado2(lado):\n",
        "  return lado**2\n",
        "print(area_quadrado2(3))"
      ],
      "metadata": {
        "colab": {
          "base_uri": "https://localhost:8080/"
        },
        "id": "hSc42d9-40K8",
        "outputId": "3322b42a-ee9a-4a02-c469-aaae2b5d2563"
      },
      "execution_count": 2,
      "outputs": [
        {
          "output_type": "stream",
          "name": "stdout",
          "text": [
            "9\n"
          ]
        }
      ]
    },
    {
      "cell_type": "code",
      "source": [
        "# Exemplo 2: função lambda que calcula o triplo de um número:\n",
        "\n",
        "numero_triplo = lambda numero:numero*3\n",
        "print(numero_triplo(5))\n",
        "\n",
        "# função tradicional:\n",
        "\n",
        "def numero_triplo2(numero):\n",
        "  return numero*3\n",
        "print(numero_triplo2(4))"
      ],
      "metadata": {
        "colab": {
          "base_uri": "https://localhost:8080/"
        },
        "id": "p3_h1Ul07Ljg",
        "outputId": "326d1a29-958a-410b-99b6-a45219c713b4"
      },
      "execution_count": 4,
      "outputs": [
        {
          "output_type": "stream",
          "name": "stdout",
          "text": [
            "15\n",
            "12\n"
          ]
        }
      ]
    },
    {
      "cell_type": "code",
      "source": [
        "# Exemplo 3: função lambda com múltiplos valores:\n",
        "# Cálculo da área de um triângulo:\n",
        "\n",
        "area_triangulo = lambda base, altura: (base*altura)/2\n",
        "\n",
        "print(area_triangulo(3,5))"
      ],
      "metadata": {
        "colab": {
          "base_uri": "https://localhost:8080/"
        },
        "id": "kT4fn4PFwiAg",
        "outputId": "77386c63-a9e6-4fb3-e371-c810971d0baa"
      },
      "execution_count": 1,
      "outputs": [
        {
          "output_type": "stream",
          "name": "stdout",
          "text": [
            "7.5\n"
          ]
        }
      ]
    },
    {
      "cell_type": "markdown",
      "source": [
        "**Aplicação de uma função em todos os itens de uma lista**\n",
        "\n",
        "- usa-se a função map();\n",
        "- portanto, podemos associar a função lambda a uma função map() para que a primeira seja aplicada a todos os elementos de uma lista.\n",
        "- A função map() permite mapear uma determinada função e aplicar em cada elemento da lista.\n",
        "\n",
        "map(função, lista)"
      ],
      "metadata": {
        "id": "p3nQMhSi8ow5"
      }
    },
    {
      "cell_type": "code",
      "source": [
        "# Exemplo 3: calcula o triplo dos números de uma lista\n",
        "\n",
        "lista = [1, 2, 5, 7, 8]     # criando a lista\n",
        "\n",
        "# criando a função lambda:\n",
        "\n",
        "triplo = lambda item:item*3\n",
        "\n",
        "# Mapeamento da função: significa \"para elemento da função 'lista' aplique a função 'triplo'.\"\n",
        "# cálculo: na função map() colocamos a função lambda (chamada, nesse caso de 'triplo') como se fosse um argumento da função.\n",
        "\n",
        "list(map(triplo, lista))\n",
        "\n"
      ],
      "metadata": {
        "colab": {
          "base_uri": "https://localhost:8080/"
        },
        "id": "JSxQJVhV71nW",
        "outputId": "7e97f1ef-fb7c-424f-c96d-e8e9a28eadcb"
      },
      "execution_count": 2,
      "outputs": [
        {
          "output_type": "execute_result",
          "data": {
            "text/plain": [
              "[3, 6, 15, 21, 24]"
            ]
          },
          "metadata": {},
          "execution_count": 2
        }
      ]
    },
    {
      "cell_type": "code",
      "source": [
        "# exemplo anterior de modo mais pythonico:\n",
        "\n",
        "list(map(lambda item:item*3, lista))"
      ],
      "metadata": {
        "colab": {
          "base_uri": "https://localhost:8080/"
        },
        "id": "yfp_2qZYx2eW",
        "outputId": "e82c825e-537d-46ff-90d6-f91dc097e9ea"
      },
      "execution_count": 3,
      "outputs": [
        {
          "output_type": "execute_result",
          "data": {
            "text/plain": [
              "[3, 6, 15, 21, 24]"
            ]
          },
          "metadata": {},
          "execution_count": 3
        }
      ]
    },
    {
      "cell_type": "markdown",
      "source": [
        "OBS: normalmente usamos o lambda para blocos de códigos simples; caso seja mais complexo, usa-se o modo tradicional."
      ],
      "metadata": {
        "id": "15nGVd8uxreY"
      }
    }
  ]
}