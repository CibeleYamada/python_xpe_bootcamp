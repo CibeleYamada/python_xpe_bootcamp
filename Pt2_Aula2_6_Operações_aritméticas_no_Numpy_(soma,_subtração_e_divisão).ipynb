{
  "nbformat": 4,
  "nbformat_minor": 0,
  "metadata": {
    "colab": {
      "provenance": [],
      "authorship_tag": "ABX9TyN2buULLLoWl7L5NTIpJZJO",
      "include_colab_link": true
    },
    "kernelspec": {
      "name": "python3",
      "display_name": "Python 3"
    },
    "language_info": {
      "name": "python"
    }
  },
  "cells": [
    {
      "cell_type": "markdown",
      "metadata": {
        "id": "view-in-github",
        "colab_type": "text"
      },
      "source": [
        "<a href=\"https://colab.research.google.com/github/CibeleYamada/python_xpe_bootcamp/blob/main/Pt2_Aula2_6_Opera%C3%A7%C3%B5es_aritm%C3%A9ticas_no_Numpy_(soma%2C_subtra%C3%A7%C3%A3o_e_divis%C3%A3o).ipynb\" target=\"_parent\"><img src=\"https://colab.research.google.com/assets/colab-badge.svg\" alt=\"Open In Colab\"/></a>"
      ]
    },
    {
      "cell_type": "markdown",
      "source": [
        "# **OPERAÇÕES ARITMÉTICAS NO  NUMPY ARRAY**\n",
        "\n",
        "- operações elemento a elemento;\n",
        "- broadcasting"
      ],
      "metadata": {
        "id": "oWSDetVysBXr"
      }
    },
    {
      "cell_type": "markdown",
      "source": [
        "**Funções aritméticas de soma, subtração e divisão**\n",
        "\n"
      ],
      "metadata": {
        "id": "exv_g-Dqcvjr"
      }
    },
    {
      "cell_type": "code",
      "source": [
        "import numpy as np"
      ],
      "metadata": {
        "id": "Qu6W-iW7dFWo"
      },
      "execution_count": null,
      "outputs": []
    },
    {
      "cell_type": "code",
      "execution_count": null,
      "metadata": {
        "colab": {
          "base_uri": "https://localhost:8080/"
        },
        "id": "VDi6v1oErySr",
        "outputId": "745602a8-088c-4992-efa7-ef4ebb191ff1"
      },
      "outputs": [
        {
          "output_type": "stream",
          "name": "stdout",
          "text": [
            "Array x: \n",
            " [[1 1]\n",
            " [1 1]]\n",
            "Array y: \n",
            " [[1 0]\n",
            " [0 1]]\n"
          ]
        }
      ],
      "source": [
        "# Criação de 2 arrays x e y para exemplificar as operações:\n",
        "\n",
        "x = np.ones((2,2), dtype=int)\n",
        "y = np.eye(2, dtype=int)\n",
        "\n",
        "print('Array x: \\n', x)\n",
        "print('Array y: \\n', y)"
      ]
    },
    {
      "cell_type": "markdown",
      "source": [
        "**SOMA**\n",
        "\n",
        "- pode ser feita por meio do operador '+' ou;\n",
        "- através da função: np.add()"
      ],
      "metadata": {
        "id": "jx2p0VLmd8GH"
      }
    },
    {
      "cell_type": "code",
      "source": [
        "# SOMA: usando operador '+'; a operação é feita entre os elementos das mesmas posições, por isso, os arrays devem ter o mesmo shape.\n",
        "\n",
        "print('Soma de dois arrays, x e y: \\n', x + y)"
      ],
      "metadata": {
        "colab": {
          "base_uri": "https://localhost:8080/"
        },
        "id": "hXWG4-Fsd1q_",
        "outputId": "b9cb2bed-279f-4ed6-c004-80bfd06ccb1d"
      },
      "execution_count": null,
      "outputs": [
        {
          "output_type": "stream",
          "name": "stdout",
          "text": [
            "Soma de dois arrays, x e y: \n",
            " [[2 1]\n",
            " [1 2]]\n"
          ]
        }
      ]
    },
    {
      "cell_type": "code",
      "source": [
        "# SOMA: de um número e um array: cada elemento do array é somado ao número.\n",
        "\n",
        "soma = np.add(x, 2)\n",
        "print(soma)"
      ],
      "metadata": {
        "colab": {
          "base_uri": "https://localhost:8080/"
        },
        "id": "V2YWYluGeld_",
        "outputId": "e61ad038-7920-45d6-ebfc-e3b73b165b07"
      },
      "execution_count": null,
      "outputs": [
        {
          "output_type": "stream",
          "name": "stdout",
          "text": [
            "[[3 3]\n",
            " [3 3]]\n"
          ]
        }
      ]
    },
    {
      "cell_type": "markdown",
      "source": [
        "**SUBTRAÇÃO**\n",
        "\n",
        "- pode ser feita pelo operador '-' ou;\n",
        "- pela função: np.subtract()"
      ],
      "metadata": {
        "id": "f7VI8JvpfYDt"
      }
    },
    {
      "cell_type": "code",
      "source": [
        "# Subtração usando operadores;\n",
        "# Array e número\n",
        "\n",
        "print(x-2)"
      ],
      "metadata": {
        "colab": {
          "base_uri": "https://localhost:8080/"
        },
        "id": "N58mOSUzfkou",
        "outputId": "c8aa1a96-de39-453b-f2be-7e2b7a904934"
      },
      "execution_count": null,
      "outputs": [
        {
          "output_type": "stream",
          "name": "stdout",
          "text": [
            "[[-1 -1]\n",
            " [-1 -1]]\n"
          ]
        }
      ]
    },
    {
      "cell_type": "code",
      "source": [
        "# Subtração usando função np.subtract() entre arrays:\n",
        "\n",
        "print(np.subtract(x, y))"
      ],
      "metadata": {
        "colab": {
          "base_uri": "https://localhost:8080/"
        },
        "id": "u24i6PRcf5dM",
        "outputId": "6523877d-dc15-4fc4-aebe-add3f9835554"
      },
      "execution_count": null,
      "outputs": [
        {
          "output_type": "stream",
          "name": "stdout",
          "text": [
            "[[0 1]\n",
            " [1 0]]\n"
          ]
        }
      ]
    },
    {
      "cell_type": "markdown",
      "source": [
        "**DIVISÃO**\n",
        "\n",
        "- pode ser usado o operador '/' ou;\n",
        "- a função: np.divide()\n"
      ],
      "metadata": {
        "id": "4Lw_8ZfOgL6W"
      }
    },
    {
      "cell_type": "code",
      "source": [
        "# Divisão:\n",
        "# OBS: como não dá para dividir um número por 0, vamos criar outros arrays:\n",
        "\n",
        "A = np.array(((4,2), (8,6)))\n",
        "B = np.array(((2,2), (2,2)))\n",
        "\n",
        "print('Array A:\\n', A)\n",
        "print('Array B:\\n', B)"
      ],
      "metadata": {
        "colab": {
          "base_uri": "https://localhost:8080/"
        },
        "id": "1JIRbxXYgZJY",
        "outputId": "7e3d2298-2f88-45ab-80a9-ab9ee1500b22"
      },
      "execution_count": null,
      "outputs": [
        {
          "output_type": "stream",
          "name": "stdout",
          "text": [
            "Array A:\n",
            " [[4 2]\n",
            " [8 6]]\n",
            "Array B:\n",
            " [[2 2]\n",
            " [2 2]]\n"
          ]
        }
      ]
    },
    {
      "cell_type": "code",
      "source": [
        "print(A/B)"
      ],
      "metadata": {
        "colab": {
          "base_uri": "https://localhost:8080/"
        },
        "id": "Ajugvuy9imRU",
        "outputId": "9bb176fa-4dec-4a63-c03f-0965bececb40"
      },
      "execution_count": null,
      "outputs": [
        {
          "output_type": "stream",
          "name": "stdout",
          "text": [
            "[[2. 1.]\n",
            " [4. 3.]]\n"
          ]
        }
      ]
    },
    {
      "cell_type": "code",
      "source": [
        "print(A/2)"
      ],
      "metadata": {
        "colab": {
          "base_uri": "https://localhost:8080/"
        },
        "id": "GQdK_y4vjAam",
        "outputId": "a15d5f5f-fe78-4678-96f5-184410fc61da"
      },
      "execution_count": null,
      "outputs": [
        {
          "output_type": "stream",
          "name": "stdout",
          "text": [
            "[[2. 1.]\n",
            " [4. 3.]]\n"
          ]
        }
      ]
    },
    {
      "cell_type": "markdown",
      "source": [
        "Dessa forma, usando arrays, é muito mais fácil fazer operações sem ter que usar a estrutura 'for' e realizar as operações uma a uma."
      ],
      "metadata": {
        "id": "fSVYCk9qNiWz"
      }
    },
    {
      "cell_type": "markdown",
      "source": [
        "**OBS**: Quando o broadcasting não funciona:\n",
        "\n",
        "- quando as dimensões dos arrays não são consistentes"
      ],
      "metadata": {
        "id": "epKWsRDANxLl"
      }
    },
    {
      "cell_type": "code",
      "source": [
        "# Ex: somando um array de 3 elementos com um array de 2 elementos\n",
        "\n",
        "np.array([1, 2, 3]) + np.array([1, 2])"
      ],
      "metadata": {
        "colab": {
          "base_uri": "https://localhost:8080/",
          "height": 200
        },
        "id": "IwVhTmuhOWUm",
        "outputId": "91c57181-e5df-4f71-caa9-7044f8a2085e"
      },
      "execution_count": null,
      "outputs": [
        {
          "output_type": "error",
          "ename": "ValueError",
          "evalue": "ignored",
          "traceback": [
            "\u001b[0;31m---------------------------------------------------------------------------\u001b[0m",
            "\u001b[0;31mValueError\u001b[0m                                Traceback (most recent call last)",
            "\u001b[0;32m<ipython-input-3-8f9abe765c66>\u001b[0m in \u001b[0;36m<cell line: 3>\u001b[0;34m()\u001b[0m\n\u001b[1;32m      1\u001b[0m \u001b[0;31m# Ex:\u001b[0m\u001b[0;34m\u001b[0m\u001b[0;34m\u001b[0m\u001b[0m\n\u001b[1;32m      2\u001b[0m \u001b[0;34m\u001b[0m\u001b[0m\n\u001b[0;32m----> 3\u001b[0;31m \u001b[0mnp\u001b[0m\u001b[0;34m.\u001b[0m\u001b[0marray\u001b[0m\u001b[0;34m(\u001b[0m\u001b[0;34m[\u001b[0m\u001b[0;36m1\u001b[0m\u001b[0;34m,\u001b[0m \u001b[0;36m2\u001b[0m\u001b[0;34m,\u001b[0m \u001b[0;36m3\u001b[0m\u001b[0;34m]\u001b[0m\u001b[0;34m)\u001b[0m \u001b[0;34m+\u001b[0m \u001b[0mnp\u001b[0m\u001b[0;34m.\u001b[0m\u001b[0marray\u001b[0m\u001b[0;34m(\u001b[0m\u001b[0;34m[\u001b[0m\u001b[0;36m1\u001b[0m\u001b[0;34m,\u001b[0m \u001b[0;36m2\u001b[0m\u001b[0;34m]\u001b[0m\u001b[0;34m)\u001b[0m\u001b[0;34m\u001b[0m\u001b[0;34m\u001b[0m\u001b[0m\n\u001b[0m",
            "\u001b[0;31mValueError\u001b[0m: operands could not be broadcast together with shapes (3,) (2,) "
          ]
        }
      ]
    },
    {
      "cell_type": "code",
      "source": [
        "# Porém: somando com array de 1 elemento, significa que estamos somando cada elemento do array 1 ao elemento do array 2.\n",
        "\n",
        "np.array([1, 2, 3]) + np.array([1])"
      ],
      "metadata": {
        "colab": {
          "base_uri": "https://localhost:8080/"
        },
        "id": "AhZT6d5QO-8q",
        "outputId": "978d9ca4-963e-4a4d-bddc-84cfe7cadba4"
      },
      "execution_count": null,
      "outputs": [
        {
          "output_type": "execute_result",
          "data": {
            "text/plain": [
              "array([2, 3, 4])"
            ]
          },
          "metadata": {},
          "execution_count": 4
        }
      ]
    },
    {
      "cell_type": "markdown",
      "source": [
        "**Combinação de operações**"
      ],
      "metadata": {
        "id": "4OCrLifqPd0j"
      }
    },
    {
      "cell_type": "code",
      "source": [
        "print('Combinação de operações: \\n', (x+y)/(x-2))"
      ],
      "metadata": {
        "colab": {
          "base_uri": "https://localhost:8080/"
        },
        "id": "mmcVnnHmPhFT",
        "outputId": "0c2eb90f-aa4b-492f-a48d-033ce1dc72e4"
      },
      "execution_count": null,
      "outputs": [
        {
          "output_type": "stream",
          "name": "stdout",
          "text": [
            "Combinação de operações: \n",
            " [[-2. -1.]\n",
            " [-1. -2.]]\n"
          ]
        }
      ]
    }
  ]
}